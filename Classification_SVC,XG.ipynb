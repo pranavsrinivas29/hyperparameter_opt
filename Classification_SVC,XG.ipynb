{
  "nbformat": 4,
  "nbformat_minor": 0,
  "metadata": {
    "colab": {
      "provenance": [],
      "authorship_tag": "ABX9TyPj0DlIlEl3uEzJ6hD3oYUQ",
      "include_colab_link": true
    },
    "kernelspec": {
      "name": "python3",
      "display_name": "Python 3"
    },
    "language_info": {
      "name": "python"
    }
  },
  "cells": [
    {
      "cell_type": "markdown",
      "metadata": {
        "id": "view-in-github",
        "colab_type": "text"
      },
      "source": [
        "<a href=\"https://colab.research.google.com/github/pranavsrinivas29/hyperparameter_opt/blob/main/Classification_SVC%2CXG.ipynb\" target=\"_parent\"><img src=\"https://colab.research.google.com/assets/colab-badge.svg\" alt=\"Open In Colab\"/></a>"
      ]
    },
    {
      "cell_type": "markdown",
      "source": [
        "Classifiers - SVC, XG\n",
        "\n",
        "Hyp-opt - Raandom,Grid Based, Bayesian,Gradient-Based(L-BFGS-B, CG, POWELL)"
      ],
      "metadata": {
        "id": "1gHwyw7FjUD0"
      }
    },
    {
      "cell_type": "code",
      "source": [
        "import numpy as np\n",
        "import pandas as pd\n",
        "import warnings  # Import the warnings module\n",
        "from sklearn.datasets import load_digits\n",
        "from sklearn.model_selection import train_test_split\n",
        "from sklearn.preprocessing import StandardScaler\n",
        "from sklearn.pipeline import Pipeline\n",
        "from sklearn.svm import SVC\n",
        "from sklearn.ensemble import RandomForestClassifier\n",
        "from sklearn.tree import DecisionTreeClassifier\n",
        "from xgboost import XGBClassifier\n",
        "from sklearn.ensemble import BaggingClassifier\n",
        "from sklearn.metrics import accuracy_score\n",
        "warnings.filterwarnings('ignore')"
      ],
      "metadata": {
        "id": "9kf_RxqCKNPK"
      },
      "execution_count": 1,
      "outputs": []
    },
    {
      "cell_type": "code",
      "source": [
        "\n",
        "\n",
        "# Load the \"digits\" dataset\n",
        "data = load_digits()\n",
        "X = data.data\n",
        "y = data.target\n",
        "\n",
        "# Split the data into training and testing sets\n",
        "X_train, X_test, y_train, y_test = train_test_split(X, y, test_size=0.3, random_state=42)\n",
        "\n",
        "# Create a dictionary of classifiers\n",
        "classifiers = {\n",
        "    'SVM': SVC(),\n",
        "\n",
        "    'XGBoost': XGBClassifier()\n",
        "}\n",
        "\n",
        "# Create a dictionary of pipelines\n",
        "pipelines = {}\n",
        "\n",
        "for name, classifier in classifiers.items():\n",
        "    pipelines[name] = Pipeline([\n",
        "        ('scaler', StandardScaler()),\n",
        "        ('bagging', BaggingClassifier(base_estimator=classifier, random_state=42))\n",
        "    ])\n",
        "\n",
        "# Train and evaluate each pipeline\n",
        "results = {}\n",
        "\n",
        "for name, pipeline in pipelines.items():\n",
        "    # Ignore warnings within this block\n",
        "    with warnings.catch_warnings():\n",
        "        warnings.simplefilter(\"ignore\")\n",
        "        pipeline.fit(X_train, y_train)\n",
        "        accuracy = pipeline.score(X_test, y_test)\n",
        "    results[name] = accuracy\n",
        "    print(f'{name}: Accuracy = {accuracy:.4f}')\n",
        "\n",
        "\n"
      ],
      "metadata": {
        "colab": {
          "base_uri": "https://localhost:8080/"
        },
        "id": "pWtR6qKwkSaM",
        "outputId": "94ad2db0-93f1-4247-ed3d-ef1d3d5ee9eb"
      },
      "execution_count": 2,
      "outputs": [
        {
          "output_type": "stream",
          "name": "stdout",
          "text": [
            "SVM: Accuracy = 0.9796\n",
            "XGBoost: Accuracy = 0.9630\n"
          ]
        }
      ]
    },
    {
      "cell_type": "markdown",
      "source": [
        "Random Search"
      ],
      "metadata": {
        "id": "Bqhl7ku2-l3Z"
      }
    },
    {
      "cell_type": "code",
      "source": [
        "from sklearn.model_selection import RandomizedSearchCV\n"
      ],
      "metadata": {
        "id": "ioHMGFBalQXn"
      },
      "execution_count": null,
      "outputs": []
    },
    {
      "cell_type": "code",
      "source": [
        "# Create a dictionary of classifiers with hyperparameter grids\n",
        "classifiers = {\n",
        "    'SVM': {\n",
        "        'classifier': SVC(),\n",
        "        'param_grid': {\n",
        "            'C': [0.1, 1, 10],\n",
        "            'kernel': ['linear', 'rbf','sigmoid'],\n",
        "            #'gamma': ['scale', 'auto'] + list(np.logspace(-3, 3, 7))\n",
        "            'gamma': (1e-6, 1e+1, 'log-uniform')\n",
        "        }\n",
        "    },\n",
        "\n",
        "    'XGBoost': {\n",
        "        'classifier': XGBClassifier(),\n",
        "        'param_grid': {\n",
        "            'learning_rate': [0.01, 0.1, 0.25],\n",
        "            'n_estimators': [50, 100, 250],\n",
        "            'max_depth': [3, 4, 5],\n",
        "            'min_child_weight': [1, 2, 3],\n",
        "            'subsample': [0.7, 0.8, 1.0],\n",
        "            'colsample_bytree': [0.7, 0.8, 1.0]\n",
        "        }\n",
        "    }\n",
        "}"
      ],
      "metadata": {
        "id": "YJshH3S6_wVA"
      },
      "execution_count": null,
      "outputs": []
    },
    {
      "cell_type": "code",
      "source": [
        "\n",
        "\n",
        "# Create a dictionary of pipelines with RandomizedSearchCV\n",
        "pipelines = {}\n",
        "\n",
        "best_params = {}\n",
        "\n",
        "for name, classifier_info in classifiers.items():\n",
        "    classifier = classifier_info['classifier']\n",
        "    param_grid = classifier_info['param_grid']\n",
        "    pipeline = Pipeline([\n",
        "        ('scaler', StandardScaler()),\n",
        "        ('random_search', RandomizedSearchCV(classifier, param_distributions=param_grid, n_iter=20, cv=5, n_jobs=-1))\n",
        "    ])\n",
        "    pipeline.fit(X_train, y_train)\n",
        "    best_accuracy = pipeline.named_steps['random_search'].best_score_\n",
        "    best_params[name] = pipeline.named_steps['random_search'].best_params_\n",
        "    print(f'{name}: Best Accuracy = {best_accuracy:.4f}')\n",
        "    print(f'{name}: Best Hyperparameters = {best_params[name]}')"
      ],
      "metadata": {
        "colab": {
          "base_uri": "https://localhost:8080/"
        },
        "id": "YVeE6stJk10r",
        "outputId": "1cfddad1-a857-4c12-d735-d9592f9fc021"
      },
      "execution_count": null,
      "outputs": [
        {
          "output_type": "stream",
          "name": "stdout",
          "text": [
            "SVM: Best Accuracy = 0.9674\n",
            "SVM: Best Hyperparameters = {'kernel': 'linear', 'gamma': 1e-06, 'C': 10}\n",
            "XGBoost: Best Accuracy = 0.9594\n",
            "XGBoost: Best Hyperparameters = {'subsample': 0.7, 'n_estimators': 250, 'min_child_weight': 1, 'max_depth': 5, 'learning_rate': 0.1, 'colsample_bytree': 0.7}\n"
          ]
        }
      ]
    },
    {
      "cell_type": "code",
      "source": [],
      "metadata": {
        "id": "Kwe8HkH3mPkv"
      },
      "execution_count": null,
      "outputs": []
    },
    {
      "cell_type": "markdown",
      "source": [
        "Grid-Based"
      ],
      "metadata": {
        "id": "arfDwD9Pmah2"
      }
    },
    {
      "cell_type": "code",
      "source": [
        "from sklearn.model_selection import GridSearchCV\n"
      ],
      "metadata": {
        "id": "Yjmd6Qnzm1w6"
      },
      "execution_count": null,
      "outputs": []
    },
    {
      "cell_type": "code",
      "source": [
        "# Create a dictionary of pipelines with GridSearchCV\n",
        "pipelines = {}\n",
        "best_params = {}\n",
        "\n",
        "for name, classifier_info in classifiers.items():\n",
        "    classifier = classifier_info['classifier']\n",
        "    param_grid = classifier_info['param_grid']\n",
        "    pipeline = Pipeline([\n",
        "        ('scaler', StandardScaler()),\n",
        "        ('grid_search', GridSearchCV(classifier, param_grid=param_grid, cv=5, n_jobs=-1))\n",
        "    ])\n",
        "    pipeline.fit(X_train, y_train)\n",
        "    best_accuracy = pipeline.named_steps['grid_search'].best_score_\n",
        "    best_params[name] = pipeline.named_steps['grid_search'].best_params_\n",
        "    print(f'{name}: Best Accuracy = {best_accuracy:.4f}')\n",
        "    print(f'{name}: Best Hyperparameters = {best_params[name]}')"
      ],
      "metadata": {
        "colab": {
          "base_uri": "https://localhost:8080/"
        },
        "id": "cKy5ckczmclB",
        "outputId": "ceaf1f37-cadd-47ab-af08-7b3bbb30a7c1"
      },
      "execution_count": null,
      "outputs": [
        {
          "output_type": "stream",
          "name": "stdout",
          "text": [
            "SVM: Best Accuracy = 0.9801\n",
            "SVM: Best Hyperparameters = {'C': 10, 'gamma': 0.01, 'kernel': 'rbf'}\n",
            "XGBoost: Best Accuracy = 0.9642\n",
            "XGBoost: Best Hyperparameters = {'colsample_bytree': 0.7, 'learning_rate': 0.25, 'max_depth': 3, 'min_child_weight': 1, 'n_estimators': 100, 'subsample': 0.8}\n"
          ]
        }
      ]
    },
    {
      "cell_type": "markdown",
      "source": [
        "Bayesian"
      ],
      "metadata": {
        "id": "h7W55Kjk-jP7"
      }
    },
    {
      "cell_type": "code",
      "source": [
        "!pip install scikit-optimize\n"
      ],
      "metadata": {
        "colab": {
          "base_uri": "https://localhost:8080/"
        },
        "id": "IYXMiTGl-oRu",
        "outputId": "53771395-4c2b-4b4c-e328-4ac6a3918e97"
      },
      "execution_count": null,
      "outputs": [
        {
          "output_type": "stream",
          "name": "stdout",
          "text": [
            "Collecting scikit-optimize\n",
            "  Downloading scikit_optimize-0.9.0-py2.py3-none-any.whl (100 kB)\n",
            "\u001b[?25l     \u001b[90m━━━━━━━━━━━━━━━━━━━━━━━━━━━━━━━━━━━━━━━━\u001b[0m \u001b[32m0.0/100.3 kB\u001b[0m \u001b[31m?\u001b[0m eta \u001b[36m-:--:--\u001b[0m\r\u001b[2K     \u001b[91m━━━━━━━━━━━━━━━━━━━━━━━━━━━━━━━━━━━━\u001b[0m\u001b[91m╸\u001b[0m\u001b[90m━━━\u001b[0m \u001b[32m92.2/100.3 kB\u001b[0m \u001b[31m3.5 MB/s\u001b[0m eta \u001b[36m0:00:01\u001b[0m\r\u001b[2K     \u001b[90m━━━━━━━━━━━━━━━━━━━━━━━━━━━━━━━━━━━━━━━\u001b[0m \u001b[32m100.3/100.3 kB\u001b[0m \u001b[31m2.4 MB/s\u001b[0m eta \u001b[36m0:00:00\u001b[0m\n",
            "\u001b[?25hRequirement already satisfied: joblib>=0.11 in /usr/local/lib/python3.10/dist-packages (from scikit-optimize) (1.3.2)\n",
            "Collecting pyaml>=16.9 (from scikit-optimize)\n",
            "  Downloading pyaml-23.9.7-py3-none-any.whl (23 kB)\n",
            "Requirement already satisfied: numpy>=1.13.3 in /usr/local/lib/python3.10/dist-packages (from scikit-optimize) (1.23.5)\n",
            "Requirement already satisfied: scipy>=0.19.1 in /usr/local/lib/python3.10/dist-packages (from scikit-optimize) (1.11.3)\n",
            "Requirement already satisfied: scikit-learn>=0.20.0 in /usr/local/lib/python3.10/dist-packages (from scikit-optimize) (1.2.2)\n",
            "Requirement already satisfied: PyYAML in /usr/local/lib/python3.10/dist-packages (from pyaml>=16.9->scikit-optimize) (6.0.1)\n",
            "Requirement already satisfied: threadpoolctl>=2.0.0 in /usr/local/lib/python3.10/dist-packages (from scikit-learn>=0.20.0->scikit-optimize) (3.2.0)\n",
            "Installing collected packages: pyaml, scikit-optimize\n",
            "Successfully installed pyaml-23.9.7 scikit-optimize-0.9.0\n"
          ]
        }
      ]
    },
    {
      "cell_type": "code",
      "source": [
        "from skopt import BayesSearchCV"
      ],
      "metadata": {
        "id": "WNNdQT0P-6oM"
      },
      "execution_count": null,
      "outputs": []
    },
    {
      "cell_type": "code",
      "source": [
        "pipelines = {}\n",
        "best_params = {}\n",
        "\n",
        "for name, classifier_info in classifiers.items():\n",
        "    classifier = classifier_info['classifier']\n",
        "    param_grid = classifier_info['param_grid']\n",
        "\n",
        "    # Use Bayesian optimization (BayesSearchCV)\n",
        "    pipeline = Pipeline([\n",
        "        ('scaler', StandardScaler()),\n",
        "        ('bayes_search', BayesSearchCV(\n",
        "            classifier, param_grid, n_iter=20, cv=5, n_jobs=-1, random_state=42)\n",
        "        )\n",
        "    ])\n",
        "\n",
        "    pipeline.fit(X_train, y_train)\n",
        "    best_accuracy = pipeline.named_steps['bayes_search'].best_score_\n",
        "    best_params[name] = pipeline.named_steps['bayes_search'].best_params_\n",
        "    print(f'{name}: Best Accuracy = {best_accuracy:.4f}')\n",
        "    print(f'{name}: Best Hyperparameters = {best_params[name]}')"
      ],
      "metadata": {
        "colab": {
          "base_uri": "https://localhost:8080/"
        },
        "id": "ib76yZC_-rQP",
        "outputId": "afb4e09a-b1c7-43dd-a74c-965f024d5175"
      },
      "execution_count": null,
      "outputs": [
        {
          "output_type": "stream",
          "name": "stdout",
          "text": [
            "SVM: Best Accuracy = 0.9833\n",
            "SVM: Best Hyperparameters = OrderedDict([('C', 10.0), ('gamma', 0.005919370539100854), ('kernel', 'rbf')])\n",
            "XGBoost: Best Accuracy = 0.9602\n",
            "XGBoost: Best Hyperparameters = OrderedDict([('colsample_bytree', 0.7), ('learning_rate', 0.1), ('max_depth', 5), ('min_child_weight', 1), ('n_estimators', 250), ('subsample', 0.8)])\n"
          ]
        }
      ]
    },
    {
      "cell_type": "markdown",
      "source": [
        "Gradient based with L-BFGS-B"
      ],
      "metadata": {
        "id": "SAEBNXwDJGLr"
      }
    },
    {
      "cell_type": "code",
      "source": [
        "from scipy.optimize import minimize\n"
      ],
      "metadata": {
        "id": "MT60nb_vJH_h"
      },
      "execution_count": 5,
      "outputs": []
    },
    {
      "cell_type": "code",
      "source": [
        "\n",
        "# Define a function to optimize hyperparameters of the SVM classifier\n",
        "def optimize_svm_hyperparameters(params):\n",
        "    C = params[0]\n",
        "    gamma = max(params[1], 0.0)\n",
        "\n",
        "    # Create and train an SVM classifier with the specified hyperparameters\n",
        "    svm_classifier = SVC(C=C, kernel='rbf', gamma=gamma)\n",
        "    svm_classifier.fit(X_train, y_train)\n",
        "\n",
        "    # Make predictions on the test set\n",
        "    y_pred = svm_classifier.predict(X_test)\n",
        "\n",
        "    # Calculate negative accuracy (minimize the negative accuracy)\n",
        "    accuracy = -accuracy_score(y_test, y_pred)\n",
        "\n",
        "    return accuracy\n",
        "\n",
        "# Define a function to optimize hyperparameters of the XGBoost classifier\n",
        "def optimize_xgboost_hyperparameters(params):\n",
        "    learning_rate, n_estimators, max_depth, min_child_weight, subsample, colsample_bytree = params\n",
        "    learning_rate = max(learning_rate, 0)\n",
        "    min_child_weight = max(min_child_weight, 0)\n",
        "    subsample = max(0, min(subsample, 1))\n",
        "    colsample_bytree= max(0, min(colsample_bytree, 1))\n",
        "    # Create and train an XGBoost classifier with the specified hyperparameters\n",
        "    xgb_classifier = XGBClassifier(\n",
        "        learning_rate=learning_rate,\n",
        "        n_estimators=int(n_estimators),\n",
        "        max_depth=int(max_depth),\n",
        "        min_child_weight=int(min_child_weight),\n",
        "        subsample=subsample,\n",
        "        colsample_bytree=colsample_bytree\n",
        "    )\n",
        "    xgb_classifier.fit(X_train, y_train)\n",
        "\n",
        "    # Make predictions on the test set\n",
        "    y_pred = xgb_classifier.predict(X_test)\n",
        "\n",
        "    # Calculate negative accuracy (minimize the negative accuracy)\n",
        "    accuracy = -accuracy_score(y_test, y_pred)\n",
        "\n",
        "    return accuracy\n"
      ],
      "metadata": {
        "id": "ygbBG4V6KAKm"
      },
      "execution_count": 6,
      "outputs": []
    },
    {
      "cell_type": "code",
      "source": [
        "# Initial values for hyperparameters (C, gamma in SVM, and hyperparameters for XGBoost)\n",
        "initial_svm_C = 1.0\n",
        "initial_svm_gamma = 1e-3\n",
        "initial_xgboost_params = [0.1, 100, 3, 1, 0.8, 0.8]  # Initial values for XGBoost hyperparameters\n",
        "\n",
        "# Perform gradient-based optimization using minimize from scipy for both classifiers\n",
        "initial_svm_params = [initial_svm_C, initial_svm_gamma]\n",
        "result_svm = minimize(optimize_svm_hyperparameters, initial_svm_params, method='L-BFGS-B')\n",
        "result_xgboost = minimize(optimize_xgboost_hyperparameters, initial_xgboost_params, method='L-BFGS-B')\n"
      ],
      "metadata": {
        "id": "FMa5IAOCKWKB"
      },
      "execution_count": 7,
      "outputs": []
    },
    {
      "cell_type": "code",
      "source": [
        "best_svm_C, best_svm_gamma = result_svm.x\n",
        "best_xgboost_params = result_xgboost.x\n",
        "best_svm_accuracy = -result_svm.fun  # Convert back to accuracy\n",
        "best_xgboost_accuracy = -result_xgboost.fun\n",
        "print(\"L-BFGS_B\")\n",
        "print(f'Best SVM C after optimization: {best_svm_C:.4f}')\n",
        "print(f'Best SVM Gamma after optimization: {best_svm_gamma:.4f}')\n",
        "print(f'Best SVM Accuracy after optimization: {best_svm_accuracy:.4f}')\n",
        "print()\n",
        "print(f'Best XGBoost Learning Rate after optimization: {best_xgboost_params[0]:.4f}')\n",
        "print(f'Best XGBoost N Estimators after optimization: {best_xgboost_params[1]:.4f}')\n",
        "print(f'Best XGBoost Max Depth after optimization: {best_xgboost_params[2]:.4f}')\n",
        "print(f'Best XGBoost Min Child Weight after optimization: {best_xgboost_params[3]:.4f}')\n",
        "print(f'Best XGBoost Subsample after optimization: {best_xgboost_params[4]:.4f}')\n",
        "print(f'Best XGBoost Col Sample By Tree after optimization: {best_xgboost_params[5]:.4f}')\n",
        "print(f'Best XGBoost Accuracy after optimization: {best_xgboost_accuracy:.4f}')"
      ],
      "metadata": {
        "colab": {
          "base_uri": "https://localhost:8080/"
        },
        "id": "fqiurCiaKhK_",
        "outputId": "fd896c89-af96-4f2d-ce84-70c207e82f01"
      },
      "execution_count": 8,
      "outputs": [
        {
          "output_type": "stream",
          "name": "stdout",
          "text": [
            "L-BFGS_B\n",
            "Best SVM C after optimization: 1.0000\n",
            "Best SVM Gamma after optimization: 0.0010\n",
            "Best SVM Accuracy after optimization: 0.9907\n",
            "\n",
            "Best XGBoost Learning Rate after optimization: 0.1000\n",
            "Best XGBoost N Estimators after optimization: 100.0000\n",
            "Best XGBoost Max Depth after optimization: 3.0000\n",
            "Best XGBoost Min Child Weight after optimization: 1.0000\n",
            "Best XGBoost Subsample after optimization: 0.8000\n",
            "Best XGBoost Col Sample By Tree after optimization: 0.8000\n",
            "Best XGBoost Accuracy after optimization: 0.9630\n"
          ]
        }
      ]
    },
    {
      "cell_type": "markdown",
      "source": [
        "Gradient Based with POWELL"
      ],
      "metadata": {
        "id": "T13h64WeMK4m"
      }
    },
    {
      "cell_type": "code",
      "source": [
        "# Initial values for hyperparameters (C, gamma in SVM, and hyperparameters for XGBoost)\n",
        "initial_svm_C = 1.0\n",
        "initial_svm_gamma = 1e-3\n",
        "initial_xgboost_params = [0.1, 100, 3, 1, 0.8, 0.8]  # Initial values for XGBoost hyperparameters\n",
        "\n",
        "# Perform gradient-based optimization using minimize from scipy for both classifiers\n",
        "initial_svm_params = [initial_svm_C, initial_svm_gamma]\n",
        "result_svm2 = minimize(optimize_svm_hyperparameters, initial_svm_params, method='POWELL')\n",
        "\n"
      ],
      "metadata": {
        "id": "tl-l8F1IMIFx"
      },
      "execution_count": null,
      "outputs": []
    },
    {
      "cell_type": "code",
      "source": [
        "best_svm_C, best_svm_gamma = result_svm2.x\n",
        "best_svm_accuracy = -result_svm.fun  # Convert back to accuracy\n",
        "print(\"Powell\")\n",
        "print(f'Best SVM C after optimization: {best_svm_C:.4f}')\n",
        "print(f'Best SVM Gamma after optimization: {best_svm_gamma:.4f}')\n",
        "print(f'Best SVM Accuracy after optimization: {best_svm_accuracy:.4f}')\n",
        "print()"
      ],
      "metadata": {
        "colab": {
          "base_uri": "https://localhost:8080/"
        },
        "id": "0GzOhth_kha2",
        "outputId": "4a1fb3db-a079-4640-a52a-15e57c6d47c7"
      },
      "execution_count": null,
      "outputs": [
        {
          "output_type": "stream",
          "name": "stdout",
          "text": [
            "Powell\n",
            "Best SVM C after optimization: 1.0000\n",
            "Best SVM Gamma after optimization: 0.0010\n",
            "Best SVM Accuracy after optimization: 0.9907\n",
            "\n"
          ]
        }
      ]
    },
    {
      "cell_type": "code",
      "source": [],
      "metadata": {
        "id": "UDRR-eT2khAA"
      },
      "execution_count": null,
      "outputs": []
    },
    {
      "cell_type": "code",
      "source": [
        "result_xgboost = minimize(optimize_xgboost_hyperparameters, initial_xgboost_params, method='POWELL')"
      ],
      "metadata": {
        "id": "o8H_mwEuMH-4"
      },
      "execution_count": null,
      "outputs": []
    },
    {
      "cell_type": "code",
      "source": [
        "print(f'Best XGBoost Learning Rate after optimization: {best_xgboost_params[0]:.4f}')\n",
        "print(f'Best XGBoost N Estimators after optimization: {best_xgboost_params[1]:.4f}')\n",
        "print(f'Best XGBoost Max Depth after optimization: {best_xgboost_params[2]:.4f}')\n",
        "print(f'Best XGBoost Min Child Weight after optimization: {best_xgboost_params[3]:.4f}')\n",
        "print(f'Best XGBoost Subsample after optimization: {best_xgboost_params[4]:.4f}')\n",
        "print(f'Best XGBoost Col Sample By Tree after optimization: {best_xgboost_params[5]:.4f}')\n",
        "print(f'Best XGBoost Accuracy after optimization: {best_xgboost_accuracy:.4f}')"
      ],
      "metadata": {
        "colab": {
          "base_uri": "https://localhost:8080/"
        },
        "id": "9K3pyGzqmx79",
        "outputId": "9d669872-35db-463b-ad57-574f71e50c29"
      },
      "execution_count": null,
      "outputs": [
        {
          "output_type": "stream",
          "name": "stdout",
          "text": [
            "Best XGBoost Learning Rate after optimization: 0.1000\n",
            "Best XGBoost N Estimators after optimization: 100.0000\n",
            "Best XGBoost Max Depth after optimization: 3.0000\n",
            "Best XGBoost Min Child Weight after optimization: 1.0000\n",
            "Best XGBoost Subsample after optimization: 0.8000\n",
            "Best XGBoost Col Sample By Tree after optimization: 0.8000\n",
            "Best XGBoost Accuracy after optimization: 0.9630\n"
          ]
        }
      ]
    },
    {
      "cell_type": "code",
      "source": [],
      "metadata": {
        "id": "bct6R1P1nWAT"
      },
      "execution_count": null,
      "outputs": []
    },
    {
      "cell_type": "code",
      "source": [
        "# Perform gradient-based optimization using minimize from scipy for both classifiers\n",
        "initial_svm_params = [initial_svm_C, initial_svm_gamma]\n",
        "result_svm3 = minimize(optimize_svm_hyperparameters, initial_svm_params, method='CG')"
      ],
      "metadata": {
        "id": "EIAHAWZonyZy"
      },
      "execution_count": 12,
      "outputs": []
    },
    {
      "cell_type": "code",
      "source": [
        "best_svm_C, best_svm_gamma = result_svm3.x\n",
        "best_svm_accuracy = -result_svm.fun  # Convert back to accuracy\n",
        "print(\"CG\")\n",
        "print(f'Best SVM C after optimization: {best_svm_C:.4f}')\n",
        "print(f'Best SVM Gamma after optimization: {best_svm_gamma:.4f}')\n",
        "print(f'Best SVM Accuracy after optimization: {best_svm_accuracy:.4f}')\n",
        "print()"
      ],
      "metadata": {
        "colab": {
          "base_uri": "https://localhost:8080/"
        },
        "id": "l0LVtYIen9wz",
        "outputId": "4aeadaaf-c65c-4e38-af62-3e9cc5a06bde"
      },
      "execution_count": 13,
      "outputs": [
        {
          "output_type": "stream",
          "name": "stdout",
          "text": [
            "CG\n",
            "Best SVM C after optimization: 1.0000\n",
            "Best SVM Gamma after optimization: 0.0010\n",
            "Best SVM Accuracy after optimization: 0.9907\n",
            "\n"
          ]
        }
      ]
    },
    {
      "cell_type": "code",
      "source": [
        "result_xgboost = minimize(optimize_xgboost_hyperparameters, initial_xgboost_params, method='CG')"
      ],
      "metadata": {
        "id": "HEpQMy3koDuZ"
      },
      "execution_count": 9,
      "outputs": []
    },
    {
      "cell_type": "code",
      "source": [
        "print(f'Best XGBoost Learning Rate after optimization: {best_xgboost_params[0]:.4f}')\n",
        "print(f'Best XGBoost N Estimators after optimization: {best_xgboost_params[1]:.4f}')\n",
        "print(f'Best XGBoost Max Depth after optimization: {best_xgboost_params[2]:.4f}')\n",
        "print(f'Best XGBoost Min Child Weight after optimization: {best_xgboost_params[3]:.4f}')\n",
        "print(f'Best XGBoost Subsample after optimization: {best_xgboost_params[4]:.4f}')\n",
        "print(f'Best XGBoost Col Sample By Tree after optimization: {best_xgboost_params[5]:.4f}')\n",
        "print(f'Best XGBoost Accuracy after optimization: {best_xgboost_accuracy:.4f}')"
      ],
      "metadata": {
        "colab": {
          "base_uri": "https://localhost:8080/"
        },
        "id": "1U4eXGnkoLbh",
        "outputId": "91995538-e1a3-4717-e0f1-e4dd06a5eb9c"
      },
      "execution_count": 10,
      "outputs": [
        {
          "output_type": "stream",
          "name": "stdout",
          "text": [
            "Best XGBoost Learning Rate after optimization: 0.1000\n",
            "Best XGBoost N Estimators after optimization: 100.0000\n",
            "Best XGBoost Max Depth after optimization: 3.0000\n",
            "Best XGBoost Min Child Weight after optimization: 1.0000\n",
            "Best XGBoost Subsample after optimization: 0.8000\n",
            "Best XGBoost Col Sample By Tree after optimization: 0.8000\n",
            "Best XGBoost Accuracy after optimization: 0.9630\n"
          ]
        }
      ]
    }
  ]
}