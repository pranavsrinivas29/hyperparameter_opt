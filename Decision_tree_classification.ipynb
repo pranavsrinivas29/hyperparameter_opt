{
  "nbformat": 4,
  "nbformat_minor": 0,
  "metadata": {
    "colab": {
      "provenance": [],
      "authorship_tag": "ABX9TyO5yC4ehSZW+WA5SpAP/1lf",
      "include_colab_link": true
    },
    "kernelspec": {
      "name": "python3",
      "display_name": "Python 3"
    },
    "language_info": {
      "name": "python"
    }
  },
  "cells": [
    {
      "cell_type": "markdown",
      "metadata": {
        "id": "view-in-github",
        "colab_type": "text"
      },
      "source": [
        "<a href=\"https://colab.research.google.com/github/pranavsrinivas29/hyperparameter_opt/blob/main/Decision_tree_classification.ipynb\" target=\"_parent\"><img src=\"https://colab.research.google.com/assets/colab-badge.svg\" alt=\"Open In Colab\"/></a>"
      ]
    },
    {
      "cell_type": "markdown",
      "source": [
        "Decision Tree for classification"
      ],
      "metadata": {
        "id": "rZ2G8sN28tmW"
      }
    },
    {
      "cell_type": "markdown",
      "source": [
        "W/o Optimization"
      ],
      "metadata": {
        "id": "vAHHvnjJ8yCH"
      }
    },
    {
      "cell_type": "code",
      "execution_count": null,
      "metadata": {
        "id": "EBn1Pk6a7_td"
      },
      "outputs": [],
      "source": [
        "import numpy as np\n",
        "import pandas as pd\n",
        "import seaborn as sns\n",
        "from sklearn.model_selection import train_test_split\n",
        "from sklearn.tree import DecisionTreeClassifier\n",
        "from sklearn.metrics import accuracy_score, classification_report, confusion_matrix\n",
        "from sklearn.tree import export_text"
      ]
    },
    {
      "cell_type": "code",
      "source": [
        "# Load the Titanic dataset from seaborn\n",
        "titanic = sns.load_dataset(\"titanic\")\n",
        "\n",
        "# Preprocessing: Drop columns with missing values and select relevant features\n",
        "titanic = titanic.dropna(subset=[\"age\", \"embarked\"])\n",
        "titanic = titanic[[\"sex\", \"class\", \"age\", \"sibsp\", \"parch\", \"fare\", \"embarked\", \"survived\"]]\n",
        "\n",
        "# Encode categorical variables using one-hot encoding\n",
        "titanic_encoded = pd.get_dummies(titanic, columns=[\"sex\", \"class\", \"embarked\"], drop_first=True)\n",
        "\n",
        "X = titanic_encoded.drop(columns=[\"survived\"])\n",
        "y = titanic_encoded[\"survived\"]\n",
        "\n",
        "# Split the data into training and testing sets (70% training, 30% testing)\n",
        "X_train, X_test, y_train, y_test = train_test_split(X, y, test_size=0.3, random_state=42)\n"
      ],
      "metadata": {
        "id": "nLRJSUf-86KM"
      },
      "execution_count": null,
      "outputs": []
    },
    {
      "cell_type": "code",
      "source": [
        "# Create a Decision Tree Classifier with default hyperparameters\n",
        "clf = DecisionTreeClassifier(random_state=42)\n",
        "\n",
        "# Fit the classifier to the training data\n",
        "clf.fit(X_train, y_train)\n",
        "\n",
        "# Make predictions on the test data\n",
        "y_pred = clf.predict(X_test)"
      ],
      "metadata": {
        "id": "LpiKOHay86HX"
      },
      "execution_count": null,
      "outputs": []
    },
    {
      "cell_type": "code",
      "source": [
        "# Calculate accuracy\n",
        "accuracy = accuracy_score(y_test, y_pred)\n",
        "print(f\"Accuracy: {accuracy:.2f}\")\n",
        "\n",
        "# Generate a classification report\n",
        "class_report = classification_report(y_test, y_pred)\n",
        "print(\"Classification Report:\\n\", class_report)\n",
        "\n",
        "\n"
      ],
      "metadata": {
        "colab": {
          "base_uri": "https://localhost:8080/"
        },
        "id": "agZEJgJ586D2",
        "outputId": "dfd03cd4-9bb7-4775-e7a4-9e2f14911977"
      },
      "execution_count": null,
      "outputs": [
        {
          "output_type": "stream",
          "name": "stdout",
          "text": [
            "Accuracy: 0.73\n",
            "Classification Report:\n",
            "               precision    recall  f1-score   support\n",
            "\n",
            "           0       0.75      0.80      0.77       122\n",
            "           1       0.70      0.64      0.67        92\n",
            "\n",
            "    accuracy                           0.73       214\n",
            "   macro avg       0.72      0.72      0.72       214\n",
            "weighted avg       0.73      0.73      0.73       214\n",
            "\n"
          ]
        }
      ]
    },
    {
      "cell_type": "code",
      "source": [],
      "metadata": {
        "id": "46t0pkZwC2Te"
      },
      "execution_count": null,
      "outputs": []
    },
    {
      "cell_type": "markdown",
      "source": [
        "With Randomized Search based Hyp Opt"
      ],
      "metadata": {
        "id": "FkMbN2xe8r6_"
      }
    },
    {
      "cell_type": "code",
      "source": [
        "from sklearn.model_selection import RandomizedSearchCV"
      ],
      "metadata": {
        "id": "hCKfAe1Z9yBd"
      },
      "execution_count": null,
      "outputs": []
    },
    {
      "cell_type": "code",
      "source": [
        "# Define hyperparameters and their possible values for random search\n",
        "param_dist_random = {\n",
        "    \"criterion\": [\"gini\", \"entropy\"],\n",
        "    \"max_depth\": [None, 5, 10, 15, 20],\n",
        "    \"min_samples_split\": [2, 5, 10],\n",
        "    \"min_samples_leaf\": [1, 2, 4],\n",
        "    \"max_features\": [\"auto\", \"sqrt\", \"log2\"],\n",
        "}\n",
        "\n",
        "# Create a RandomizedSearchCV object\n",
        "random_search = RandomizedSearchCV(\n",
        "    clf, param_distributions=param_dist_random, n_iter=50, cv=5, n_jobs=-1, random_state=42\n",
        ")\n",
        "\n",
        "# Fit the randomized search to the training data\n",
        "random_search.fit(X_train, y_train)\n",
        "\n",
        "# Get the best estimator (model with best hyperparameters)\n",
        "best_clf_random = random_search.best_estimator_\n",
        "\n",
        "# Make predictions on the test data using the best model\n",
        "y_pred_random = best_clf_random.predict(X_test)"
      ],
      "metadata": {
        "id": "W2woyYXrClhQ"
      },
      "execution_count": null,
      "outputs": []
    },
    {
      "cell_type": "code",
      "source": [
        "# Calculate accuracy\n",
        "accuracy_random = accuracy_score(y_test, y_pred_random)\n",
        "print(f\"Accuracy: {accuracy_random:.2f}\")\n",
        "\n",
        "# Generate a classification report\n",
        "class_report = classification_report(y_test, y_pred_random)\n",
        "print(\"Classification Report:\\n\", class_report)\n"
      ],
      "metadata": {
        "colab": {
          "base_uri": "https://localhost:8080/"
        },
        "id": "cQnn_pY5Cldj",
        "outputId": "e309a015-1374-4161-e3f4-fac6c369f26f"
      },
      "execution_count": null,
      "outputs": [
        {
          "output_type": "stream",
          "name": "stdout",
          "text": [
            "Accuracy: 0.77\n",
            "Classification Report:\n",
            "               precision    recall  f1-score   support\n",
            "\n",
            "           0       0.73      0.93      0.82       122\n",
            "           1       0.85      0.55      0.67        92\n",
            "\n",
            "    accuracy                           0.77       214\n",
            "   macro avg       0.79      0.74      0.74       214\n",
            "weighted avg       0.78      0.77      0.76       214\n",
            "\n"
          ]
        }
      ]
    },
    {
      "cell_type": "code",
      "source": [],
      "metadata": {
        "id": "cGVnXnpsC1D0"
      },
      "execution_count": null,
      "outputs": []
    },
    {
      "cell_type": "code",
      "source": [],
      "metadata": {
        "id": "ohl01aksDDd1"
      },
      "execution_count": null,
      "outputs": []
    },
    {
      "cell_type": "markdown",
      "source": [
        "Grid Based Search"
      ],
      "metadata": {
        "id": "1jPSRaA_CxYR"
      }
    },
    {
      "cell_type": "code",
      "source": [
        "from sklearn.model_selection import GridSearchCV"
      ],
      "metadata": {
        "id": "-WII2Rf3Clbw"
      },
      "execution_count": null,
      "outputs": []
    },
    {
      "cell_type": "code",
      "source": [
        "# Create a GridSearchCV object\n",
        "grid_search = GridSearchCV(clf, param_grid=param_dist_random, cv=5, n_jobs=-1)\n",
        "\n",
        "# Fit the grid search to the training data\n",
        "grid_search.fit(X_train, y_train)\n",
        "\n",
        "# Get the best estimator (model with best hyperparameters)\n",
        "best_clf_grid = grid_search.best_estimator_\n",
        "\n",
        "# Make predictions on the test data using the best model\n",
        "y_pred_grid = best_clf_grid.predict(X_test)"
      ],
      "metadata": {
        "colab": {
          "base_uri": "https://localhost:8080/"
        },
        "id": "znCm6DjMClX2",
        "outputId": "6258cba9-e70f-4699-9f9d-58a3ed356be2"
      },
      "execution_count": null,
      "outputs": [
        {
          "output_type": "stream",
          "name": "stderr",
          "text": [
            "/usr/local/lib/python3.10/dist-packages/sklearn/tree/_classes.py:269: FutureWarning: `max_features='auto'` has been deprecated in 1.1 and will be removed in 1.3. To keep the past behaviour, explicitly set `max_features='sqrt'`.\n",
            "  warnings.warn(\n"
          ]
        }
      ]
    },
    {
      "cell_type": "code",
      "source": [
        "# Calculate accuracy\n",
        "accuracy_grid = accuracy_score(y_test, y_pred_grid)\n",
        "print(f\"Accuracy: {accuracy_grid:.2f}\")\n",
        "\n",
        "# Generate a classification report\n",
        "class_report = classification_report(y_test, y_pred_grid)\n",
        "print(\"Classification Report:\\n\", class_report)"
      ],
      "metadata": {
        "colab": {
          "base_uri": "https://localhost:8080/"
        },
        "id": "cHo_c5T5ClWR",
        "outputId": "b47291b8-3ea0-44e2-f512-571f20115ff2"
      },
      "execution_count": null,
      "outputs": [
        {
          "output_type": "stream",
          "name": "stdout",
          "text": [
            "Accuracy: 0.79\n",
            "Classification Report:\n",
            "               precision    recall  f1-score   support\n",
            "\n",
            "           0       0.77      0.90      0.83       122\n",
            "           1       0.83      0.64      0.72        92\n",
            "\n",
            "    accuracy                           0.79       214\n",
            "   macro avg       0.80      0.77      0.78       214\n",
            "weighted avg       0.80      0.79      0.78       214\n",
            "\n"
          ]
        }
      ]
    },
    {
      "cell_type": "code",
      "source": [],
      "metadata": {
        "id": "4hbxb1QAD5YL"
      },
      "execution_count": null,
      "outputs": []
    },
    {
      "cell_type": "code",
      "source": [],
      "metadata": {
        "id": "dM0zmjqxHrgN"
      },
      "execution_count": null,
      "outputs": []
    },
    {
      "cell_type": "markdown",
      "source": [
        "Bayesian Search"
      ],
      "metadata": {
        "id": "p14QWvSd-2PZ"
      }
    },
    {
      "cell_type": "code",
      "source": [
        "from skopt import BayesSearchCV\n",
        "\n",
        "\n",
        "# Create a BayesSearchCV object\n",
        "bayes_search = BayesSearchCV(\n",
        "    clf,\n",
        "    search_spaces=param_dist_random,\n",
        "    n_iter=50,  # Number of iterations/evaluations\n",
        "    cv=5,  # Number of cross-validation folds\n",
        "    n_jobs=-1,\n",
        ")"
      ],
      "metadata": {
        "id": "0wjSSibHEMLL"
      },
      "execution_count": null,
      "outputs": []
    },
    {
      "cell_type": "code",
      "source": [
        "# Fit the Bayesian search to the training data\n",
        "bayes_search.fit(X_train, y_train)\n",
        "\n",
        "# Get the best estimator (model with best hyperparameters)\n",
        "best_clf_bayesian = bayes_search.best_estimator_\n",
        "\n",
        "# Make predictions on the test data using the best model\n",
        "y_pred_bayesian = best_clf_bayesian.predict(X_test)\n",
        "\n",
        "# Calculate accuracy\n",
        "accuracy_bayesian = accuracy_score(y_test, y_pred_bayesian)\n",
        "print(f\"Accuracy: {accuracy_bayesian:.2f}\")\n",
        "\n",
        "# Generate a classification report\n",
        "class_report = classification_report(y_test, y_pred_bayesian)\n",
        "print(\"Classification Report:\\n\", class_report)\n"
      ],
      "metadata": {
        "colab": {
          "base_uri": "https://localhost:8080/"
        },
        "id": "Hy7tBAC9EZL5",
        "outputId": "e4b812ba-2b9d-4cac-f0ae-e5b6d4a56816"
      },
      "execution_count": null,
      "outputs": [
        {
          "output_type": "stream",
          "name": "stderr",
          "text": [
            "/usr/local/lib/python3.10/dist-packages/skopt/optimizer/optimizer.py:449: UserWarning: The objective has been evaluated at this point before.\n",
            "  warnings.warn(\"The objective has been evaluated \"\n"
          ]
        },
        {
          "output_type": "stream",
          "name": "stdout",
          "text": [
            "Accuracy: 0.76\n",
            "Classification Report:\n",
            "               precision    recall  f1-score   support\n",
            "\n",
            "           0       0.78      0.81      0.80       122\n",
            "           1       0.74      0.70      0.72        92\n",
            "\n",
            "    accuracy                           0.76       214\n",
            "   macro avg       0.76      0.75      0.76       214\n",
            "weighted avg       0.76      0.76      0.76       214\n",
            "\n"
          ]
        },
        {
          "output_type": "stream",
          "name": "stderr",
          "text": [
            "/usr/local/lib/python3.10/dist-packages/sklearn/tree/_classes.py:269: FutureWarning: `max_features='auto'` has been deprecated in 1.1 and will be removed in 1.3. To keep the past behaviour, explicitly set `max_features='sqrt'`.\n",
            "  warnings.warn(\n"
          ]
        }
      ]
    },
    {
      "cell_type": "code",
      "source": [
        "# Print the best hyperparameters\n",
        "print(\"Best Hyperparameters (Random Search):\", random_search.best_params_)\n",
        "\n",
        "# Print the best hyperparameters\n",
        "print(\"Best Hyperparameters (Grid Based Search):\", grid_search.best_params_)\n",
        "\n",
        "\n",
        "# Print the best hyperparameters\n",
        "print(\"Best Hyperparameters (Bayesian Search):\", bayes_search.best_params_)"
      ],
      "metadata": {
        "colab": {
          "base_uri": "https://localhost:8080/"
        },
        "id": "z__5Gx_nHbx3",
        "outputId": "3d822d9e-4ba6-4e39-ab3c-392c91c352d9"
      },
      "execution_count": null,
      "outputs": [
        {
          "output_type": "stream",
          "name": "stdout",
          "text": [
            "Best Hyperparameters (Random Search): {'min_samples_split': 2, 'min_samples_leaf': 1, 'max_features': 'log2', 'max_depth': 5, 'criterion': 'entropy'}\n",
            "Best Hyperparameters (Grid Based Search): {'criterion': 'entropy', 'max_depth': 10, 'max_features': 'auto', 'min_samples_leaf': 2, 'min_samples_split': 2}\n",
            "Best Hyperparameters (Bayesian Search): OrderedDict([('criterion', 'entropy'), ('max_depth', 10), ('max_features', 'auto'), ('min_samples_leaf', 2), ('min_samples_split', 5)])\n"
          ]
        }
      ]
    }
  ]
}