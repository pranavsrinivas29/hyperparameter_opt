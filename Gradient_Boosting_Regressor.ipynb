{
  "cells": [
    {
      "cell_type": "markdown",
      "metadata": {
        "id": "view-in-github",
        "colab_type": "text"
      },
      "source": [
        "<a href=\"https://colab.research.google.com/github/pranavsrinivas29/hyperparameter_opt/blob/main/Gradient_Boosting_Regressor.ipynb\" target=\"_parent\"><img src=\"https://colab.research.google.com/assets/colab-badge.svg\" alt=\"Open In Colab\"/></a>"
      ]
    },
    {
      "cell_type": "markdown",
      "metadata": {
        "id": "2u9dKwR6GrsV"
      },
      "source": [
        "Gradient Boosting Regressor W/o Optimization"
      ]
    },
    {
      "cell_type": "code",
      "execution_count": null,
      "metadata": {
        "id": "IG_-8QzWE_yk"
      },
      "outputs": [],
      "source": [
        "import numpy as np\n",
        "import pandas as pd\n",
        "from sklearn.datasets import load_diabetes\n",
        "from sklearn.model_selection import train_test_split\n",
        "from sklearn.ensemble import GradientBoostingRegressor\n",
        "from sklearn.metrics import mean_squared_error, r2_score\n",
        "from sklearn.preprocessing import StandardScaler"
      ]
    },
    {
      "cell_type": "code",
      "execution_count": null,
      "metadata": {
        "id": "Fk1kkugnFZx6"
      },
      "outputs": [],
      "source": [
        "# Load the diabetes dataset\n",
        "diabetes = load_diabetes()\n",
        "X = pd.DataFrame(diabetes.data, columns=diabetes.feature_names)\n",
        "y = pd.Series(diabetes.target, name=\"target\")\n",
        "\n",
        "# Split the data into training and testing sets (70% training, 30% testing)\n",
        "X_train, X_test, y_train, y_test = train_test_split(X, y, test_size=0.3, random_state=42)\n",
        "\n",
        "# Preprocess the data (standardize numerical features)\n",
        "scaler = StandardScaler()\n",
        "X_train_scaled = scaler.fit_transform(X_train)\n",
        "X_test_scaled = scaler.transform(X_test)"
      ]
    },
    {
      "cell_type": "code",
      "execution_count": null,
      "metadata": {
        "id": "jS2RpBzdFZK1"
      },
      "outputs": [],
      "source": [
        "# Create a Gradient Boosting Regressor\n",
        "regressor = GradientBoostingRegressor(n_estimators=100, random_state=42)\n",
        "\n",
        "# Fit the regressor to the training data\n",
        "regressor.fit(X_train_scaled, y_train)\n",
        "\n",
        "# Make predictions on the test data\n",
        "y_pred = regressor.predict(X_test_scaled)\n"
      ]
    },
    {
      "cell_type": "code",
      "execution_count": null,
      "metadata": {
        "colab": {
          "base_uri": "https://localhost:8080/"
        },
        "id": "iutNLZgQGp13",
        "outputId": "28785d4a-ad9a-4764-a8ea-5cc81f373e96"
      },
      "outputs": [
        {
          "output_type": "stream",
          "name": "stdout",
          "text": [
            "Root Mean Squared Error (RMSE): 55.52776934600318\n",
            "R-squared (R2): 0.42883338547082817\n"
          ]
        }
      ],
      "source": [
        "# Calculate RMSE and R-squared\n",
        "rmse = np.sqrt(mean_squared_error(y_test, y_pred))\n",
        "r2 = r2_score(y_test, y_pred)\n",
        "\n",
        "print(\"Root Mean Squared Error (RMSE):\", rmse)\n",
        "print(\"R-squared (R2):\", r2)"
      ]
    },
    {
      "cell_type": "code",
      "execution_count": null,
      "metadata": {
        "id": "TQxyBwcQGxnu"
      },
      "outputs": [],
      "source": []
    },
    {
      "cell_type": "markdown",
      "metadata": {
        "id": "zOEKARGEGxAQ"
      },
      "source": [
        "Randomized Search Based"
      ]
    },
    {
      "cell_type": "code",
      "execution_count": null,
      "metadata": {
        "id": "iUMhF-EMG18m"
      },
      "outputs": [],
      "source": [
        "from sklearn.model_selection import RandomizedSearchCV"
      ]
    },
    {
      "cell_type": "code",
      "execution_count": null,
      "metadata": {
        "id": "M3u9uuZAHH70"
      },
      "outputs": [],
      "source": [
        "# Define hyperparameters and their possible values for randomized search\n",
        "param_dist_random = {\n",
        "    'n_estimators': [100, 200, 300],\n",
        "    'learning_rate': [0.001, 0.01, 0.1, 0.2, 0.3],\n",
        "    'max_depth': [3, 4, 5, 6],\n",
        "    'min_samples_split': [2, 5, 10],\n",
        "    'min_samples_leaf': [1, 2, 4]\n",
        "}\n",
        "\n",
        "# Create a RandomizedSearchCV object\n",
        "random_search = RandomizedSearchCV(\n",
        "    regressor,\n",
        "    param_distributions=param_dist_random,\n",
        "    n_iter=100,  # Number of random parameter settings to try\n",
        "    cv=5,  # Number of cross-validation folds\n",
        "    n_jobs=-1,\n",
        "    random_state=42\n",
        ")\n"
      ]
    },
    {
      "cell_type": "code",
      "execution_count": null,
      "metadata": {
        "colab": {
          "base_uri": "https://localhost:8080/"
        },
        "id": "NUhkjhE8HOTR",
        "outputId": "d17df074-6947-45ce-a747-c4b95f90ee27"
      },
      "outputs": [
        {
          "output_type": "stream",
          "name": "stdout",
          "text": [
            "Root Mean Squared Error (RMSE) for Best Model (Random Search): 58.90503409298303\n",
            "R-squared (R2) for Best Model (Random Search): 0.35724245549807165\n",
            "Best Hyperparameters (Random Search): {'n_estimators': 200, 'min_samples_split': 10, 'min_samples_leaf': 1, 'max_depth': 6, 'learning_rate': 0.01}\n"
          ]
        }
      ],
      "source": [
        "\n",
        "# Fit the randomized search to the training data\n",
        "random_search.fit(X_train_scaled, y_train)\n",
        "\n",
        "# Get the best estimator (model with best hyperparameters)\n",
        "best_regressor_random = random_search.best_estimator_\n",
        "\n",
        "# Make predictions on the test data using the best model\n",
        "y_pred_random = best_regressor_random.predict(X_test_scaled)\n",
        "\n",
        "# Calculate RMSE and R-squared for the best model\n",
        "rmse_random = np.sqrt(mean_squared_error(y_test, y_pred_random))\n",
        "r2_random = r2_score(y_test, y_pred_random)\n",
        "\n",
        "print(\"Root Mean Squared Error (RMSE) for Best Model (Random Search):\", rmse_random)\n",
        "print(\"R-squared (R2) for Best Model (Random Search):\", r2_random)\n",
        "\n",
        "# Print the best hyperparameters\n",
        "print(\"Best Hyperparameters (Random Search):\", random_search.best_params_)"
      ]
    },
    {
      "cell_type": "code",
      "execution_count": null,
      "metadata": {
        "id": "s2ugHApsIYNP"
      },
      "outputs": [],
      "source": []
    },
    {
      "cell_type": "markdown",
      "metadata": {
        "id": "FROo17-8IY2U"
      },
      "source": [
        "Grid Based Search"
      ]
    },
    {
      "cell_type": "code",
      "execution_count": null,
      "metadata": {
        "colab": {
          "base_uri": "https://localhost:8080/"
        },
        "id": "371ZQZ9GIcNK",
        "outputId": "4dfaf343-045f-4a91-ce11-68bd944cee3b"
      },
      "outputs": [
        {
          "output_type": "stream",
          "name": "stdout",
          "text": [
            "Root Mean Squared Error (RMSE) for Best Model (Grid Search): 56.30373231787073\n",
            "R-squared (R2) for Best Model (Grid Search): 0.4127585138245339\n",
            "Best Hyperparameters (Grid Search): {'learning_rate': 0.01, 'max_depth': 5, 'min_samples_leaf': 2, 'min_samples_split': 10, 'n_estimators': 200}\n"
          ]
        }
      ],
      "source": [
        "from sklearn.model_selection import GridSearchCV\n",
        "# Create a GridSearchCV object\n",
        "grid_search = GridSearchCV(\n",
        "    regressor,\n",
        "    param_grid=param_dist_random,\n",
        "    cv=5,  # Number of cross-validation folds\n",
        "    n_jobs=-1\n",
        ")\n",
        "\n",
        "# Fit the grid search to the training data\n",
        "grid_search.fit(X_train_scaled, y_train)\n",
        "\n",
        "# Get the best estimator (model with best hyperparameters)\n",
        "best_regressor_grid = grid_search.best_estimator_\n",
        "\n",
        "# Make predictions on the test data using the best model\n",
        "y_pred_grid = best_regressor_grid.predict(X_test_scaled)\n",
        "\n",
        "# Calculate RMSE and R-squared for the best model\n",
        "rmse_grid = np.sqrt(mean_squared_error(y_test, y_pred_grid))\n",
        "r2_grid = r2_score(y_test, y_pred_grid)\n",
        "\n",
        "print(\"Root Mean Squared Error (RMSE) for Best Model (Grid Search):\", rmse_grid)\n",
        "print(\"R-squared (R2) for Best Model (Grid Search):\", r2_grid)\n",
        "\n",
        "# Print the best hyperparameters\n",
        "print(\"Best Hyperparameters (Grid Search):\", grid_search.best_params_)"
      ]
    },
    {
      "cell_type": "markdown",
      "source": [
        "Bayesian"
      ],
      "metadata": {
        "id": "pCo6fW29vBM3"
      }
    },
    {
      "cell_type": "code",
      "source": [
        "pip install scikit-optimize\n"
      ],
      "metadata": {
        "colab": {
          "base_uri": "https://localhost:8080/"
        },
        "id": "2izul1ZAw3iR",
        "outputId": "684d5774-f5c1-4000-f783-e84413c43fe3"
      },
      "execution_count": null,
      "outputs": [
        {
          "output_type": "stream",
          "name": "stdout",
          "text": [
            "Collecting scikit-optimize\n",
            "  Downloading scikit_optimize-0.9.0-py2.py3-none-any.whl (100 kB)\n",
            "\u001b[2K     \u001b[90m━━━━━━━━━━━━━━━━━━━━━━━━━━━━━━━━━━━━━━━\u001b[0m \u001b[32m100.3/100.3 kB\u001b[0m \u001b[31m1.7 MB/s\u001b[0m eta \u001b[36m0:00:00\u001b[0m\n",
            "\u001b[?25hRequirement already satisfied: joblib>=0.11 in /usr/local/lib/python3.10/dist-packages (from scikit-optimize) (1.3.2)\n",
            "Collecting pyaml>=16.9 (from scikit-optimize)\n",
            "  Downloading pyaml-23.9.6-py3-none-any.whl (22 kB)\n",
            "Requirement already satisfied: numpy>=1.13.3 in /usr/local/lib/python3.10/dist-packages (from scikit-optimize) (1.23.5)\n",
            "Requirement already satisfied: scipy>=0.19.1 in /usr/local/lib/python3.10/dist-packages (from scikit-optimize) (1.11.2)\n",
            "Requirement already satisfied: scikit-learn>=0.20.0 in /usr/local/lib/python3.10/dist-packages (from scikit-optimize) (1.2.2)\n",
            "Requirement already satisfied: PyYAML in /usr/local/lib/python3.10/dist-packages (from pyaml>=16.9->scikit-optimize) (6.0.1)\n",
            "Requirement already satisfied: threadpoolctl>=2.0.0 in /usr/local/lib/python3.10/dist-packages (from scikit-learn>=0.20.0->scikit-optimize) (3.2.0)\n",
            "Installing collected packages: pyaml, scikit-optimize\n",
            "Successfully installed pyaml-23.9.6 scikit-optimize-0.9.0\n"
          ]
        }
      ]
    },
    {
      "cell_type": "code",
      "source": [
        "from skopt import BayesSearchCV\n",
        "\n",
        "# Create a BayesSearchCV object\n",
        "bayesian_search = BayesSearchCV(\n",
        "    regressor,\n",
        "    search_spaces=param_dist_random,\n",
        "    n_iter=50,  # Number of iterations/evaluations\n",
        "    cv=5,  # Number of cross-validation folds\n",
        "    n_jobs=-1,\n",
        "    random_state=42,\n",
        ")\n",
        "\n",
        "# Fit the Bayesian search to the training data\n",
        "bayesian_search.fit(X_train_scaled, y_train)\n",
        "\n",
        "# Get the best estimator (model with best hyperparameters)\n",
        "best_regressor_bayesian = bayesian_search.best_estimator_\n",
        "\n",
        "# Make predictions on the test data using the best model\n",
        "y_pred_bayesian = best_regressor_bayesian.predict(X_test_scaled)\n",
        "\n",
        "# Calculate RMSE and R-squared for the best model\n",
        "rmse_bayesian = np.sqrt(mean_squared_error(y_test, y_pred_bayesian))\n",
        "r2_bayesian = r2_score(y_test, y_pred_bayesian)\n",
        "\n",
        "print(\"Root Mean Squared Error (RMSE) for Best Model (Bayesian Search):\", rmse_bayesian)\n",
        "print(\"R-squared (R2) for Best Model (Bayesian Search):\", r2_bayesian)\n",
        "\n",
        "# Print the best hyperparameters\n",
        "print(\"Best Hyperparameters (Bayesian Search):\", bayesian_search.best_params_)"
      ],
      "metadata": {
        "colab": {
          "base_uri": "https://localhost:8080/"
        },
        "id": "mkZ5jtP4ue_L",
        "outputId": "9995737c-07f0-44cf-fcc6-8c12e4bacb8e"
      },
      "execution_count": null,
      "outputs": [
        {
          "output_type": "stream",
          "name": "stderr",
          "text": [
            "/usr/local/lib/python3.10/dist-packages/skopt/optimizer/optimizer.py:449: UserWarning: The objective has been evaluated at this point before.\n",
            "  warnings.warn(\"The objective has been evaluated \"\n",
            "/usr/local/lib/python3.10/dist-packages/skopt/optimizer/optimizer.py:449: UserWarning: The objective has been evaluated at this point before.\n",
            "  warnings.warn(\"The objective has been evaluated \"\n",
            "/usr/local/lib/python3.10/dist-packages/skopt/optimizer/optimizer.py:449: UserWarning: The objective has been evaluated at this point before.\n",
            "  warnings.warn(\"The objective has been evaluated \"\n",
            "/usr/local/lib/python3.10/dist-packages/skopt/optimizer/optimizer.py:449: UserWarning: The objective has been evaluated at this point before.\n",
            "  warnings.warn(\"The objective has been evaluated \"\n",
            "/usr/local/lib/python3.10/dist-packages/skopt/optimizer/optimizer.py:449: UserWarning: The objective has been evaluated at this point before.\n",
            "  warnings.warn(\"The objective has been evaluated \"\n",
            "/usr/local/lib/python3.10/dist-packages/skopt/optimizer/optimizer.py:449: UserWarning: The objective has been evaluated at this point before.\n",
            "  warnings.warn(\"The objective has been evaluated \"\n",
            "/usr/local/lib/python3.10/dist-packages/skopt/optimizer/optimizer.py:449: UserWarning: The objective has been evaluated at this point before.\n",
            "  warnings.warn(\"The objective has been evaluated \"\n",
            "/usr/local/lib/python3.10/dist-packages/skopt/optimizer/optimizer.py:449: UserWarning: The objective has been evaluated at this point before.\n",
            "  warnings.warn(\"The objective has been evaluated \"\n",
            "/usr/local/lib/python3.10/dist-packages/skopt/optimizer/optimizer.py:449: UserWarning: The objective has been evaluated at this point before.\n",
            "  warnings.warn(\"The objective has been evaluated \"\n",
            "/usr/local/lib/python3.10/dist-packages/skopt/optimizer/optimizer.py:449: UserWarning: The objective has been evaluated at this point before.\n",
            "  warnings.warn(\"The objective has been evaluated \"\n",
            "/usr/local/lib/python3.10/dist-packages/skopt/optimizer/optimizer.py:449: UserWarning: The objective has been evaluated at this point before.\n",
            "  warnings.warn(\"The objective has been evaluated \"\n",
            "/usr/local/lib/python3.10/dist-packages/skopt/optimizer/optimizer.py:449: UserWarning: The objective has been evaluated at this point before.\n",
            "  warnings.warn(\"The objective has been evaluated \"\n"
          ]
        },
        {
          "output_type": "stream",
          "name": "stdout",
          "text": [
            "Root Mean Squared Error (RMSE) for Best Model (Bayesian Search): 56.30373231787073\n",
            "R-squared (R2) for Best Model (Bayesian Search): 0.4127585138245339\n",
            "Best Hyperparameters (Bayesian Search): OrderedDict([('learning_rate', 0.01), ('max_depth', 5), ('min_samples_leaf', 2), ('min_samples_split', 10), ('n_estimators', 200)])\n"
          ]
        }
      ]
    }
  ],
  "metadata": {
    "colab": {
      "provenance": [],
      "authorship_tag": "ABX9TyOFSD9gQkh/exEh4YUFU9+O",
      "include_colab_link": true
    },
    "kernelspec": {
      "display_name": "Python 3",
      "name": "python3"
    },
    "language_info": {
      "name": "python"
    }
  },
  "nbformat": 4,
  "nbformat_minor": 0
}