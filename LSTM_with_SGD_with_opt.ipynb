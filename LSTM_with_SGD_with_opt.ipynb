{
  "nbformat": 4,
  "nbformat_minor": 0,
  "metadata": {
    "colab": {
      "provenance": [],
      "authorship_tag": "ABX9TyNzQ1lnhd9PbzVuXpFxv+zT",
      "include_colab_link": true
    },
    "kernelspec": {
      "name": "python3",
      "display_name": "Python 3"
    },
    "language_info": {
      "name": "python"
    }
  },
  "cells": [
    {
      "cell_type": "markdown",
      "metadata": {
        "id": "view-in-github",
        "colab_type": "text"
      },
      "source": [
        "<a href=\"https://colab.research.google.com/github/pranavsrinivas29/hyperparameter_opt/blob/main/LSTM_with_SGD_with_opt.ipynb\" target=\"_parent\"><img src=\"https://colab.research.google.com/assets/colab-badge.svg\" alt=\"Open In Colab\"/></a>"
      ]
    },
    {
      "cell_type": "code",
      "execution_count": null,
      "metadata": {
        "colab": {
          "base_uri": "https://localhost:8080/"
        },
        "id": "mH0azbv3CeXd",
        "outputId": "4bbcc3a3-be54-4712-9392-ee4c42178492"
      },
      "outputs": [
        {
          "output_type": "stream",
          "name": "stdout",
          "text": [
            "Requirement already satisfied: optuna in /usr/local/lib/python3.10/dist-packages (3.3.0)\n",
            "Requirement already satisfied: alembic>=1.5.0 in /usr/local/lib/python3.10/dist-packages (from optuna) (1.12.0)\n",
            "Requirement already satisfied: cmaes>=0.10.0 in /usr/local/lib/python3.10/dist-packages (from optuna) (0.10.0)\n",
            "Requirement already satisfied: colorlog in /usr/local/lib/python3.10/dist-packages (from optuna) (6.7.0)\n",
            "Requirement already satisfied: numpy in /usr/local/lib/python3.10/dist-packages (from optuna) (1.23.5)\n",
            "Requirement already satisfied: packaging>=20.0 in /usr/local/lib/python3.10/dist-packages (from optuna) (23.1)\n",
            "Requirement already satisfied: sqlalchemy>=1.3.0 in /usr/local/lib/python3.10/dist-packages (from optuna) (2.0.20)\n",
            "Requirement already satisfied: tqdm in /usr/local/lib/python3.10/dist-packages (from optuna) (4.66.1)\n",
            "Requirement already satisfied: PyYAML in /usr/local/lib/python3.10/dist-packages (from optuna) (6.0.1)\n",
            "Requirement already satisfied: Mako in /usr/local/lib/python3.10/dist-packages (from alembic>=1.5.0->optuna) (1.2.4)\n",
            "Requirement already satisfied: typing-extensions>=4 in /usr/local/lib/python3.10/dist-packages (from alembic>=1.5.0->optuna) (4.5.0)\n",
            "Requirement already satisfied: greenlet!=0.4.17 in /usr/local/lib/python3.10/dist-packages (from sqlalchemy>=1.3.0->optuna) (2.0.2)\n",
            "Requirement already satisfied: MarkupSafe>=0.9.2 in /usr/local/lib/python3.10/dist-packages (from Mako->alembic>=1.5.0->optuna) (2.1.3)\n"
          ]
        }
      ],
      "source": [
        "#!pip install optuna"
      ]
    },
    {
      "cell_type": "code",
      "source": [
        "import optuna\n",
        "import tensorflow as tf\n",
        "from tensorflow.keras.layers import LSTM, Dense, Embedding, Flatten\n",
        "from tensorflow.keras.models import Sequential\n",
        "from tensorflow.keras.datasets import imdb"
      ],
      "metadata": {
        "id": "COl2CRq3C894"
      },
      "execution_count": null,
      "outputs": []
    },
    {
      "cell_type": "code",
      "source": [
        "# Load the IMDB dataset (as an example of text data)\n",
        "(train_data, train_labels), (test_data, test_labels) = imdb.load_data(num_words=10000)\n",
        "\n",
        "# Preprocess the input data (sequence padding)\n",
        "max_sequence_length = 200  # Adjust as needed\n",
        "train_data = tf.keras.preprocessing.sequence.pad_sequences(train_data, maxlen=max_sequence_length)\n",
        "test_data = tf.keras.preprocessing.sequence.pad_sequences(test_data, maxlen=max_sequence_length)"
      ],
      "metadata": {
        "id": "XvYO8mnOC854"
      },
      "execution_count": null,
      "outputs": []
    },
    {
      "cell_type": "code",
      "source": [
        "# Define a function to create your LSTM-based model based on hyperparameters\n",
        "def create_model(trial):\n",
        "    model = Sequential()\n",
        "\n",
        "    embedding_dim = trial.suggest_int('embedding_dim', 32, 256)\n",
        "    lstm_units = trial.suggest_int('lstm_units', 32, 256)\n",
        "    dense_units = trial.suggest_int('dense_units', 32, 256)\n",
        "    dropout_rate = trial.suggest_uniform('dropout_rate', 0.0, 0.5)\n",
        "\n",
        "    model.add(Embedding(input_dim=10000, output_dim=embedding_dim, input_length=max_sequence_length))\n",
        "    model.add(LSTM(units=lstm_units))\n",
        "    model.add(Dense(units=dense_units, activation='relu'))\n",
        "    model.add(tf.keras.layers.Dropout(rate=dropout_rate))\n",
        "    model.add(Dense(1, activation='sigmoid'))\n",
        "\n",
        "    model.compile(optimizer='adam', loss='binary_crossentropy', metrics=['accuracy'])\n",
        "    return model\n"
      ],
      "metadata": {
        "id": "BiSJ6Al8C837"
      },
      "execution_count": null,
      "outputs": []
    },
    {
      "cell_type": "code",
      "source": [
        "# Define an objective function for Optuna\n",
        "def objective(trial):\n",
        "    model = create_model(trial)\n",
        "\n",
        "    history = model.fit(train_data, train_labels, epochs=5, batch_size=64, validation_split=0.2, verbose=0)\n",
        "\n",
        "    validation_loss = history.history['val_loss'][-1]\n",
        "\n",
        "    return validation_loss"
      ],
      "metadata": {
        "id": "z9SFZ2RBC8zu"
      },
      "execution_count": null,
      "outputs": []
    },
    {
      "cell_type": "code",
      "source": [
        "# Create an Optuna study and optimize\n",
        "study = optuna.create_study(direction='minimize')\n",
        "study.optimize(objective, n_trials=3)  # You can adjust the number of trials\n"
      ],
      "metadata": {
        "colab": {
          "base_uri": "https://localhost:8080/"
        },
        "id": "427B2zEOC8x-",
        "outputId": "28fe0ca2-3129-44f1-f205-8fe7a5ec54bb"
      },
      "execution_count": null,
      "outputs": [
        {
          "output_type": "stream",
          "name": "stderr",
          "text": [
            "[I 2023-09-17 17:16:47,703] A new study created in memory with name: no-name-f260ae7d-7316-46d4-a5d2-366039389a4a\n",
            "<ipython-input-5-df2e680410fb>:8: FutureWarning: suggest_uniform has been deprecated in v3.0.0. This feature will be removed in v6.0.0. See https://github.com/optuna/optuna/releases/tag/v3.0.0. Use suggest_float instead.\n",
            "  dropout_rate = trial.suggest_uniform('dropout_rate', 0.0, 0.5)\n",
            "[I 2023-09-17 17:24:14,192] Trial 0 finished with value: 0.4444919526576996 and parameters: {'embedding_dim': 38, 'lstm_units': 128, 'dense_units': 173, 'dropout_rate': 0.04548013466988099}. Best is trial 0 with value: 0.4444919526576996.\n",
            "[I 2023-09-17 17:26:22,955] Trial 1 finished with value: 0.4600178599357605 and parameters: {'embedding_dim': 93, 'lstm_units': 36, 'dense_units': 97, 'dropout_rate': 0.1021333207391858}. Best is trial 0 with value: 0.4444919526576996.\n",
            "[I 2023-09-17 17:41:34,529] Trial 2 finished with value: 0.5167690515518188 and parameters: {'embedding_dim': 118, 'lstm_units': 240, 'dense_units': 195, 'dropout_rate': 0.2492383922998846}. Best is trial 0 with value: 0.4444919526576996.\n"
          ]
        }
      ]
    },
    {
      "cell_type": "code",
      "source": [
        "# Retrieve the best hyperparameters\n",
        "best_hyperparameters = study.best_params\n",
        "print(\"Best Hyperparameters:\", best_hyperparameters)"
      ],
      "metadata": {
        "colab": {
          "base_uri": "https://localhost:8080/"
        },
        "id": "qsn_AQr-ER54",
        "outputId": "21c168fe-2d97-481e-b3b9-116c206a07c6"
      },
      "execution_count": null,
      "outputs": [
        {
          "output_type": "stream",
          "name": "stdout",
          "text": [
            "Best Hyperparameters: {'embedding_dim': 38, 'lstm_units': 128, 'dense_units': 173, 'dropout_rate': 0.04548013466988099}\n"
          ]
        }
      ]
    }
  ]
}