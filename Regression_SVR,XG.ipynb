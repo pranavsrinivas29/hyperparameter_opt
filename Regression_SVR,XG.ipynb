{
  "nbformat": 4,
  "nbformat_minor": 0,
  "metadata": {
    "colab": {
      "provenance": [],
      "authorship_tag": "ABX9TyPKQbAxDY4/oIy5RN5oq2fL",
      "include_colab_link": true
    },
    "kernelspec": {
      "name": "python3",
      "display_name": "Python 3"
    },
    "language_info": {
      "name": "python"
    }
  },
  "cells": [
    {
      "cell_type": "markdown",
      "metadata": {
        "id": "view-in-github",
        "colab_type": "text"
      },
      "source": [
        "<a href=\"https://colab.research.google.com/github/pranavsrinivas29/hyperparameter_opt/blob/main/Regression_SVR%2CXG.ipynb\" target=\"_parent\"><img src=\"https://colab.research.google.com/assets/colab-badge.svg\" alt=\"Open In Colab\"/></a>"
      ]
    },
    {
      "cell_type": "markdown",
      "source": [
        "Regressors - SVR, XG\n",
        "\n",
        "Hyp-opt - Raandom,Grid Based, Bayesian,Gradient-Based(L-BFGS-B, CG, POWELL)"
      ],
      "metadata": {
        "id": "PFrQvhK0jpOQ"
      }
    },
    {
      "cell_type": "code",
      "source": [
        "import numpy as np\n",
        "import pandas as pd\n",
        "import warnings\n",
        "from sklearn.datasets import load_diabetes\n",
        "from sklearn.model_selection import train_test_split, RandomizedSearchCV, GridSearchCV\n",
        "from sklearn.preprocessing import StandardScaler\n",
        "from sklearn.pipeline import Pipeline\n",
        "from sklearn.svm import SVR\n",
        "from xgboost import XGBRegressor\n",
        "from sklearn.metrics import mean_squared_error"
      ],
      "metadata": {
        "id": "gxuxlOICscxw"
      },
      "execution_count": 4,
      "outputs": []
    },
    {
      "cell_type": "code",
      "source": [
        "\n",
        "\n",
        "# Load the Diabetes dataset\n",
        "data = load_diabetes()\n",
        "X = data.data\n",
        "y = data.target\n",
        "\n",
        "# Split the data into training and testing sets\n",
        "X_train, X_test, y_train, y_test = train_test_split(X, y, test_size=0.3, random_state=42)\n",
        "\n",
        "# Create separate pipelines for SVR and XGBoost\n",
        "svr_pipeline = Pipeline([\n",
        "    ('scaler', StandardScaler()),  # Standardize features\n",
        "    ('regressor', SVR(kernel='linear'))  # Support Vector Machine for Regression\n",
        "])\n",
        "\n",
        "xgboost_pipeline = Pipeline([\n",
        "    ('scaler', StandardScaler()),  # Standardize features\n",
        "    ('regressor', XGBRegressor())  # XGBoost for Regression\n",
        "])\n",
        "\n",
        "# Fit the SVR pipeline on the training data\n",
        "svr_pipeline.fit(X_train, y_train)\n",
        "\n",
        "# Predict using SVR\n",
        "y_svr_pred = svr_pipeline.predict(X_test)\n",
        "\n",
        "# Fit the XGBoost pipeline on the training data\n",
        "xgboost_pipeline.fit(X_train, y_train)\n",
        "\n",
        "# Predict using XGBoost\n",
        "y_xgboost_pred = xgboost_pipeline.predict(X_test)\n",
        "\n",
        "# Calculate Mean Squared Error (MSE) for SVR\n",
        "mse_svr = mean_squared_error(y_test, y_svr_pred)\n",
        "print(f\"SVR Mean Squared Error (MSE): {mse_svr:.4f}\")\n",
        "\n",
        "# Calculate Mean Squared Error (MSE) for XGBoost\n",
        "mse_xgboost = mean_squared_error(y_test, y_xgboost_pred)\n",
        "print(f\"XGBoost Mean Squared Error (MSE): {mse_xgboost:.4f}\")\n"
      ],
      "metadata": {
        "colab": {
          "base_uri": "https://localhost:8080/"
        },
        "id": "NmJeWtTQhiyY",
        "outputId": "a6000a77-fe1d-4b1f-9692-a8ae6a06b165"
      },
      "execution_count": 5,
      "outputs": [
        {
          "output_type": "stream",
          "name": "stdout",
          "text": [
            "SVR Mean Squared Error (MSE): 2856.7597\n",
            "XGBoost Mean Squared Error (MSE): 3513.6592\n"
          ]
        }
      ]
    },
    {
      "cell_type": "markdown",
      "source": [
        "Random Search"
      ],
      "metadata": {
        "id": "h1UY6VTzzhOI"
      }
    },
    {
      "cell_type": "code",
      "source": [
        "# Define parameter spaces for SVR and XGBoost\n",
        "param_space_svr = {\n",
        "    'regressor__C': np.logspace(0.1, 1, 10),  # Regularization parameter for SVR\n",
        "    'regressor__epsilon': np.logspace(-3, 1, 100)  # Epsilon parameter for SVR\n",
        "}\n",
        "\n",
        "param_space_xgboost = {\n",
        "    'regressor__learning_rate': [0.01, 0.1, 0.25],  # Learning rate for XGBoost\n",
        "    'regressor__n_estimators': [50, 100, 250],  # Number of boosting rounds\n",
        "    'regressor__max_depth':  [3, 4, 5],  # Maximum depth of trees\n",
        "    'regressor__min_child_weight': [1, 2, 3],  # Minimum sum of instance weight in a child\n",
        "    'regressor__subsample': [0.7, 0.8, 1.0],  # Row subsample ratio of training instances\n",
        "    'regressor__colsample_bytree': [0.7, 0.8, 1.0]  # Column subsample ratio of features\n",
        "}\n",
        "\n"
      ],
      "metadata": {
        "id": "W49k697aioRU"
      },
      "execution_count": 20,
      "outputs": []
    },
    {
      "cell_type": "code",
      "source": [
        "# Perform Randomized Search for SVR hyperparameters\n",
        "svr_random_search = RandomizedSearchCV(\n",
        "    svr_pipeline,\n",
        "    param_space_svr,\n",
        "    n_iter=50,  # Number of random combinations to try\n",
        "    scoring='neg_mean_squared_error',  # Use negative MSE for scoring\n",
        "    cv=5,  # Number of cross-validation folds\n",
        "    random_state=42,\n",
        "    n_jobs=-1  # Use all available CPU cores for parallelization\n",
        ")\n",
        "\n",
        "# Fit SVR Randomized Search on the training data\n",
        "svr_random_search.fit(X_train, y_train)\n",
        "\n",
        "# Get the best SVR model\n",
        "best_svr_model = svr_random_search.best_estimator_\n",
        "\n",
        "# Perform Randomized Search for XGBoost hyperparameters\n",
        "xgboost_random_search = RandomizedSearchCV(\n",
        "    xgboost_pipeline,\n",
        "    param_space_xgboost,\n",
        "    n_iter=50,  # Number of random combinations to try\n",
        "    scoring='neg_mean_squared_error',  # Use negative MSE for scoring\n",
        "    cv=5,  # Number of cross-validation folds\n",
        "    random_state=42,\n",
        "    n_jobs=-1  # Use all available CPU cores for parallelization\n",
        ")\n",
        "\n",
        "# Fit XGBoost Randomized Search on the training data\n",
        "xgboost_random_search.fit(X_train, y_train)\n",
        "\n",
        "# Get the best XGBoost model\n",
        "best_xgboost_model = xgboost_random_search.best_estimator_\n",
        "\n",
        "# Predict using the best SVR model\n",
        "y_svr_pred = best_svr_model.predict(X_test)\n",
        "\n",
        "# Predict using the best XGBoost model\n",
        "y_xgboost_pred = best_xgboost_model.predict(X_test)\n"
      ],
      "metadata": {
        "id": "otfutNOivT4h"
      },
      "execution_count": 21,
      "outputs": []
    },
    {
      "cell_type": "code",
      "source": [
        "# Calculate Mean Squared Error (MSE) for SVR\n",
        "mse_svr = mean_squared_error(y_test, y_svr_pred)\n",
        "print(f\"SVR Mean Squared Error (MSE): {mse_svr:.4f}\")\n",
        "\n",
        "# Calculate Mean Squared Error (MSE) for XGBoost\n",
        "mse_xgboost = mean_squared_error(y_test, y_xgboost_pred)\n",
        "print(f\"XGBoost Mean Squared Error (MSE): {mse_xgboost:.4f}\")\n",
        "\n",
        "# Print the best hyperparameters for SVR and XGBoost\n",
        "print(\"Best SVR Hyperparameters:\")\n",
        "print(svr_random_search.best_params_)\n",
        "\n",
        "print(\"\\nBest XGBoost Hyperparameters:\")\n",
        "print(xgboost_random_search.best_params_)"
      ],
      "metadata": {
        "colab": {
          "base_uri": "https://localhost:8080/"
        },
        "id": "kJyqOBDny8Ix",
        "outputId": "a31b5218-37e8-474a-97bf-4d2b2feaf071"
      },
      "execution_count": 22,
      "outputs": [
        {
          "output_type": "stream",
          "name": "stdout",
          "text": [
            "SVR Mean Squared Error (MSE): 2829.0397\n",
            "XGBoost Mean Squared Error (MSE): 2795.3419\n",
            "Best SVR Hyperparameters:\n",
            "{'regressor__epsilon': 10.0, 'regressor__C': 1.9952623149688797}\n",
            "\n",
            "Best XGBoost Hyperparameters:\n",
            "{'regressor__subsample': 0.7, 'regressor__n_estimators': 250, 'regressor__min_child_weight': 3, 'regressor__max_depth': 5, 'regressor__learning_rate': 0.01, 'regressor__colsample_bytree': 0.7}\n"
          ]
        }
      ]
    },
    {
      "cell_type": "markdown",
      "source": [
        "Grid Based"
      ],
      "metadata": {
        "id": "gbYz3Ee2zjpb"
      }
    },
    {
      "cell_type": "code",
      "source": [
        "# Perform Grid Search for SVR hyperparameters\n",
        "svr_grid_search = GridSearchCV(\n",
        "    svr_pipeline,\n",
        "    param_space_svr,\n",
        "    scoring='neg_mean_squared_error',  # Use negative MSE for scoring\n",
        "    cv=5  # Number of cross-validation folds\n",
        ")\n",
        "\n",
        "# Fit SVR Grid Search on the training data\n",
        "svr_grid_search.fit(X_train, y_train)\n",
        "\n",
        "# Get the best SVR model\n",
        "best_svr_model = svr_grid_search.best_estimator_\n",
        "\n",
        "# Perform Grid Search for XGBoost hyperparameters\n",
        "xgboost_grid_search = GridSearchCV(\n",
        "    xgboost_pipeline,\n",
        "    param_space_xgboost,\n",
        "    scoring='neg_mean_squared_error',  # Use negative MSE for scoring\n",
        "    cv=5  # Number of cross-validation folds\n",
        ")\n",
        "\n",
        "# Fit XGBoost Grid Search on the training data\n",
        "xgboost_grid_search.fit(X_train, y_train)\n",
        "\n",
        "# Get the best XGBoost model\n",
        "best_xgboost_model = xgboost_grid_search.best_estimator_\n",
        "\n",
        "# Predict using the best SVR model\n",
        "y_svr_pred = best_svr_model.predict(X_test)\n",
        "\n",
        "# Predict using the best XGBoost model\n",
        "y_xgboost_pred = best_xgboost_model.predict(X_test)"
      ],
      "metadata": {
        "id": "t5wB84TkzfoM"
      },
      "execution_count": 25,
      "outputs": []
    },
    {
      "cell_type": "code",
      "source": [
        "# Calculate Mean Squared Error (MSE) for SVR\n",
        "mse_svr = mean_squared_error(y_test, y_svr_pred)\n",
        "print(f\"SVR Mean Squared Error (MSE): {mse_svr:.4f}\")\n",
        "\n",
        "# Calculate Mean Squared Error (MSE) for XGBoost\n",
        "mse_xgboost = mean_squared_error(y_test, y_xgboost_pred)\n",
        "print(f\"XGBoost Mean Squared Error (MSE): {mse_xgboost:.4f}\")\n",
        "\n",
        "# Print the best hyperparameters for SVR and XGBoost\n",
        "print(\"Best SVR Hyperparameters:\")\n",
        "print(svr_grid_search.best_params_)\n",
        "\n",
        "print(\"\\nBest XGBoost Hyperparameters:\")\n",
        "print(xgboost_grid_search.best_params_)"
      ],
      "metadata": {
        "colab": {
          "base_uri": "https://localhost:8080/"
        },
        "id": "WUMGjAf9zfj7",
        "outputId": "db3c59a8-8a84-49f8-837c-831a7b9b67c6"
      },
      "execution_count": 26,
      "outputs": [
        {
          "output_type": "stream",
          "name": "stdout",
          "text": [
            "SVR Mean Squared Error (MSE): 2854.1568\n",
            "XGBoost Mean Squared Error (MSE): 2756.8413\n",
            "Best SVR Hyperparameters:\n",
            "{'regressor__C': 1.5848931924611136, 'regressor__epsilon': 10.0}\n",
            "\n",
            "Best XGBoost Hyperparameters:\n",
            "{'regressor__colsample_bytree': 0.7, 'regressor__learning_rate': 0.01, 'regressor__max_depth': 3, 'regressor__min_child_weight': 3, 'regressor__n_estimators': 250, 'regressor__subsample': 0.8}\n"
          ]
        }
      ]
    },
    {
      "cell_type": "markdown",
      "source": [],
      "metadata": {
        "id": "eq6EfuqoIDbi"
      }
    },
    {
      "cell_type": "code",
      "source": [
        "!pip install scikit-optimize"
      ],
      "metadata": {
        "colab": {
          "base_uri": "https://localhost:8080/"
        },
        "id": "tZUR4XP4IIL_",
        "outputId": "7e6574fa-cbd3-4b7f-9f9d-770b10c8224f"
      },
      "execution_count": 29,
      "outputs": [
        {
          "output_type": "stream",
          "name": "stdout",
          "text": [
            "Collecting scikit-optimize\n",
            "  Downloading scikit_optimize-0.9.0-py2.py3-none-any.whl (100 kB)\n",
            "\u001b[2K     \u001b[90m━━━━━━━━━━━━━━━━━━━━━━━━━━━━━━━━━━━━━━━\u001b[0m \u001b[32m100.3/100.3 kB\u001b[0m \u001b[31m2.3 MB/s\u001b[0m eta \u001b[36m0:00:00\u001b[0m\n",
            "\u001b[?25hRequirement already satisfied: joblib>=0.11 in /usr/local/lib/python3.10/dist-packages (from scikit-optimize) (1.3.2)\n",
            "Collecting pyaml>=16.9 (from scikit-optimize)\n",
            "  Downloading pyaml-23.9.7-py3-none-any.whl (23 kB)\n",
            "Requirement already satisfied: numpy>=1.13.3 in /usr/local/lib/python3.10/dist-packages (from scikit-optimize) (1.23.5)\n",
            "Requirement already satisfied: scipy>=0.19.1 in /usr/local/lib/python3.10/dist-packages (from scikit-optimize) (1.11.3)\n",
            "Requirement already satisfied: scikit-learn>=0.20.0 in /usr/local/lib/python3.10/dist-packages (from scikit-optimize) (1.2.2)\n",
            "Requirement already satisfied: PyYAML in /usr/local/lib/python3.10/dist-packages (from pyaml>=16.9->scikit-optimize) (6.0.1)\n",
            "Requirement already satisfied: threadpoolctl>=2.0.0 in /usr/local/lib/python3.10/dist-packages (from scikit-learn>=0.20.0->scikit-optimize) (3.2.0)\n",
            "Installing collected packages: pyaml, scikit-optimize\n",
            "Successfully installed pyaml-23.9.7 scikit-optimize-0.9.0\n"
          ]
        }
      ]
    },
    {
      "cell_type": "code",
      "source": [
        " from skopt import BayesSearchCV"
      ],
      "metadata": {
        "id": "HNMyD6a63b-2"
      },
      "execution_count": 30,
      "outputs": []
    },
    {
      "cell_type": "code",
      "source": [
        "# Perform Bayesian optimization for SVR hyperparameters\n",
        "svr_bayesian_search = BayesSearchCV(\n",
        "    svr_pipeline,\n",
        "    param_space_svr,\n",
        "    n_iter=50,  # Number of random combinations to try\n",
        "    scoring='neg_mean_squared_error',  # Use negative MSE for scoring\n",
        "    cv=5,  # Number of cross-validation folds\n",
        "    random_state=42,\n",
        "    n_jobs=-1  # Use all available CPU cores for parallelization\n",
        ")\n",
        "\n",
        "# Fit SVR Bayesian Search on the training data\n",
        "svr_bayesian_search.fit(X_train, y_train)\n",
        "\n",
        "# Get the best SVR model\n",
        "best_svr_model = svr_bayesian_search.best_estimator_\n",
        "\n",
        "# Perform Bayesian optimization for XGBoost hyperparameters\n",
        "xgboost_bayesian_search = BayesSearchCV(\n",
        "    xgboost_pipeline,\n",
        "    param_space_xgboost,\n",
        "    n_iter=50,  # Number of random combinations to try\n",
        "    scoring='neg_mean_squared_error',  # Use negative MSE for scoring\n",
        "    cv=5,  # Number of cross-validation folds\n",
        "    random_state=42,\n",
        "    n_jobs=-1  # Use all available CPU cores for parallelization\n",
        ")\n",
        "\n",
        "# Fit XGBoost Bayesian Search on the training data\n",
        "xgboost_bayesian_search.fit(X_train, y_train)\n",
        "\n",
        "# Get the best XGBoost model\n",
        "best_xgboost_model = xgboost_bayesian_search.best_estimator_\n",
        "\n",
        "# Predict using the best SVR model\n",
        "y_svr_pred = best_svr_model.predict(X_test)\n",
        "\n",
        "# Predict using the best XGBoost model\n",
        "y_xgboost_pred = best_xgboost_model.predict(X_test)"
      ],
      "metadata": {
        "colab": {
          "base_uri": "https://localhost:8080/"
        },
        "id": "3hk6qm-S3bxU",
        "outputId": "04eca1b5-6d75-4fe4-eabf-cc3c75367065"
      },
      "execution_count": 31,
      "outputs": [
        {
          "output_type": "stream",
          "name": "stderr",
          "text": [
            "/usr/local/lib/python3.10/dist-packages/skopt/optimizer/optimizer.py:449: UserWarning: The objective has been evaluated at this point before.\n",
            "  warnings.warn(\"The objective has been evaluated \"\n",
            "/usr/local/lib/python3.10/dist-packages/skopt/optimizer/optimizer.py:449: UserWarning: The objective has been evaluated at this point before.\n",
            "  warnings.warn(\"The objective has been evaluated \"\n",
            "/usr/local/lib/python3.10/dist-packages/skopt/optimizer/optimizer.py:449: UserWarning: The objective has been evaluated at this point before.\n",
            "  warnings.warn(\"The objective has been evaluated \"\n",
            "/usr/local/lib/python3.10/dist-packages/skopt/optimizer/optimizer.py:449: UserWarning: The objective has been evaluated at this point before.\n",
            "  warnings.warn(\"The objective has been evaluated \"\n",
            "/usr/local/lib/python3.10/dist-packages/skopt/optimizer/optimizer.py:449: UserWarning: The objective has been evaluated at this point before.\n",
            "  warnings.warn(\"The objective has been evaluated \"\n",
            "/usr/local/lib/python3.10/dist-packages/skopt/optimizer/optimizer.py:449: UserWarning: The objective has been evaluated at this point before.\n",
            "  warnings.warn(\"The objective has been evaluated \"\n",
            "/usr/local/lib/python3.10/dist-packages/skopt/optimizer/optimizer.py:449: UserWarning: The objective has been evaluated at this point before.\n",
            "  warnings.warn(\"The objective has been evaluated \"\n",
            "/usr/local/lib/python3.10/dist-packages/skopt/optimizer/optimizer.py:449: UserWarning: The objective has been evaluated at this point before.\n",
            "  warnings.warn(\"The objective has been evaluated \"\n",
            "/usr/local/lib/python3.10/dist-packages/skopt/optimizer/optimizer.py:449: UserWarning: The objective has been evaluated at this point before.\n",
            "  warnings.warn(\"The objective has been evaluated \"\n",
            "/usr/local/lib/python3.10/dist-packages/skopt/optimizer/optimizer.py:449: UserWarning: The objective has been evaluated at this point before.\n",
            "  warnings.warn(\"The objective has been evaluated \"\n",
            "/usr/local/lib/python3.10/dist-packages/skopt/optimizer/optimizer.py:449: UserWarning: The objective has been evaluated at this point before.\n",
            "  warnings.warn(\"The objective has been evaluated \"\n",
            "/usr/local/lib/python3.10/dist-packages/skopt/optimizer/optimizer.py:449: UserWarning: The objective has been evaluated at this point before.\n",
            "  warnings.warn(\"The objective has been evaluated \"\n",
            "/usr/local/lib/python3.10/dist-packages/skopt/optimizer/optimizer.py:449: UserWarning: The objective has been evaluated at this point before.\n",
            "  warnings.warn(\"The objective has been evaluated \"\n",
            "/usr/local/lib/python3.10/dist-packages/skopt/optimizer/optimizer.py:449: UserWarning: The objective has been evaluated at this point before.\n",
            "  warnings.warn(\"The objective has been evaluated \"\n",
            "/usr/local/lib/python3.10/dist-packages/skopt/optimizer/optimizer.py:449: UserWarning: The objective has been evaluated at this point before.\n",
            "  warnings.warn(\"The objective has been evaluated \"\n",
            "/usr/local/lib/python3.10/dist-packages/skopt/optimizer/optimizer.py:449: UserWarning: The objective has been evaluated at this point before.\n",
            "  warnings.warn(\"The objective has been evaluated \"\n",
            "/usr/local/lib/python3.10/dist-packages/skopt/optimizer/optimizer.py:449: UserWarning: The objective has been evaluated at this point before.\n",
            "  warnings.warn(\"The objective has been evaluated \"\n",
            "/usr/local/lib/python3.10/dist-packages/skopt/optimizer/optimizer.py:449: UserWarning: The objective has been evaluated at this point before.\n",
            "  warnings.warn(\"The objective has been evaluated \"\n",
            "/usr/local/lib/python3.10/dist-packages/skopt/optimizer/optimizer.py:449: UserWarning: The objective has been evaluated at this point before.\n",
            "  warnings.warn(\"The objective has been evaluated \"\n",
            "/usr/local/lib/python3.10/dist-packages/skopt/optimizer/optimizer.py:449: UserWarning: The objective has been evaluated at this point before.\n",
            "  warnings.warn(\"The objective has been evaluated \"\n",
            "/usr/local/lib/python3.10/dist-packages/skopt/optimizer/optimizer.py:449: UserWarning: The objective has been evaluated at this point before.\n",
            "  warnings.warn(\"The objective has been evaluated \"\n",
            "/usr/local/lib/python3.10/dist-packages/skopt/optimizer/optimizer.py:449: UserWarning: The objective has been evaluated at this point before.\n",
            "  warnings.warn(\"The objective has been evaluated \"\n",
            "/usr/local/lib/python3.10/dist-packages/skopt/optimizer/optimizer.py:449: UserWarning: The objective has been evaluated at this point before.\n",
            "  warnings.warn(\"The objective has been evaluated \"\n",
            "/usr/local/lib/python3.10/dist-packages/skopt/optimizer/optimizer.py:449: UserWarning: The objective has been evaluated at this point before.\n",
            "  warnings.warn(\"The objective has been evaluated \"\n",
            "/usr/local/lib/python3.10/dist-packages/skopt/optimizer/optimizer.py:449: UserWarning: The objective has been evaluated at this point before.\n",
            "  warnings.warn(\"The objective has been evaluated \"\n",
            "/usr/local/lib/python3.10/dist-packages/skopt/optimizer/optimizer.py:449: UserWarning: The objective has been evaluated at this point before.\n",
            "  warnings.warn(\"The objective has been evaluated \"\n",
            "/usr/local/lib/python3.10/dist-packages/skopt/optimizer/optimizer.py:449: UserWarning: The objective has been evaluated at this point before.\n",
            "  warnings.warn(\"The objective has been evaluated \"\n",
            "/usr/local/lib/python3.10/dist-packages/skopt/optimizer/optimizer.py:449: UserWarning: The objective has been evaluated at this point before.\n",
            "  warnings.warn(\"The objective has been evaluated \"\n",
            "/usr/local/lib/python3.10/dist-packages/skopt/optimizer/optimizer.py:449: UserWarning: The objective has been evaluated at this point before.\n",
            "  warnings.warn(\"The objective has been evaluated \"\n",
            "/usr/local/lib/python3.10/dist-packages/skopt/optimizer/optimizer.py:449: UserWarning: The objective has been evaluated at this point before.\n",
            "  warnings.warn(\"The objective has been evaluated \"\n",
            "/usr/local/lib/python3.10/dist-packages/skopt/optimizer/optimizer.py:449: UserWarning: The objective has been evaluated at this point before.\n",
            "  warnings.warn(\"The objective has been evaluated \"\n",
            "/usr/local/lib/python3.10/dist-packages/skopt/optimizer/optimizer.py:449: UserWarning: The objective has been evaluated at this point before.\n",
            "  warnings.warn(\"The objective has been evaluated \"\n",
            "/usr/local/lib/python3.10/dist-packages/skopt/optimizer/optimizer.py:449: UserWarning: The objective has been evaluated at this point before.\n",
            "  warnings.warn(\"The objective has been evaluated \"\n",
            "/usr/local/lib/python3.10/dist-packages/skopt/optimizer/optimizer.py:449: UserWarning: The objective has been evaluated at this point before.\n",
            "  warnings.warn(\"The objective has been evaluated \"\n",
            "/usr/local/lib/python3.10/dist-packages/skopt/optimizer/optimizer.py:449: UserWarning: The objective has been evaluated at this point before.\n",
            "  warnings.warn(\"The objective has been evaluated \"\n",
            "/usr/local/lib/python3.10/dist-packages/skopt/optimizer/optimizer.py:449: UserWarning: The objective has been evaluated at this point before.\n",
            "  warnings.warn(\"The objective has been evaluated \"\n",
            "/usr/local/lib/python3.10/dist-packages/skopt/optimizer/optimizer.py:449: UserWarning: The objective has been evaluated at this point before.\n",
            "  warnings.warn(\"The objective has been evaluated \"\n",
            "/usr/local/lib/python3.10/dist-packages/skopt/optimizer/optimizer.py:449: UserWarning: The objective has been evaluated at this point before.\n",
            "  warnings.warn(\"The objective has been evaluated \"\n",
            "/usr/local/lib/python3.10/dist-packages/skopt/optimizer/optimizer.py:449: UserWarning: The objective has been evaluated at this point before.\n",
            "  warnings.warn(\"The objective has been evaluated \"\n",
            "/usr/local/lib/python3.10/dist-packages/skopt/optimizer/optimizer.py:449: UserWarning: The objective has been evaluated at this point before.\n",
            "  warnings.warn(\"The objective has been evaluated \"\n",
            "/usr/local/lib/python3.10/dist-packages/skopt/optimizer/optimizer.py:449: UserWarning: The objective has been evaluated at this point before.\n",
            "  warnings.warn(\"The objective has been evaluated \"\n",
            "/usr/local/lib/python3.10/dist-packages/skopt/optimizer/optimizer.py:449: UserWarning: The objective has been evaluated at this point before.\n",
            "  warnings.warn(\"The objective has been evaluated \"\n",
            "/usr/local/lib/python3.10/dist-packages/skopt/optimizer/optimizer.py:449: UserWarning: The objective has been evaluated at this point before.\n",
            "  warnings.warn(\"The objective has been evaluated \"\n",
            "/usr/local/lib/python3.10/dist-packages/skopt/optimizer/optimizer.py:449: UserWarning: The objective has been evaluated at this point before.\n",
            "  warnings.warn(\"The objective has been evaluated \"\n",
            "/usr/local/lib/python3.10/dist-packages/skopt/optimizer/optimizer.py:449: UserWarning: The objective has been evaluated at this point before.\n",
            "  warnings.warn(\"The objective has been evaluated \"\n",
            "/usr/local/lib/python3.10/dist-packages/skopt/optimizer/optimizer.py:449: UserWarning: The objective has been evaluated at this point before.\n",
            "  warnings.warn(\"The objective has been evaluated \"\n",
            "/usr/local/lib/python3.10/dist-packages/skopt/optimizer/optimizer.py:449: UserWarning: The objective has been evaluated at this point before.\n",
            "  warnings.warn(\"The objective has been evaluated \"\n",
            "/usr/local/lib/python3.10/dist-packages/skopt/optimizer/optimizer.py:449: UserWarning: The objective has been evaluated at this point before.\n",
            "  warnings.warn(\"The objective has been evaluated \"\n",
            "/usr/local/lib/python3.10/dist-packages/skopt/optimizer/optimizer.py:449: UserWarning: The objective has been evaluated at this point before.\n",
            "  warnings.warn(\"The objective has been evaluated \"\n",
            "/usr/local/lib/python3.10/dist-packages/skopt/optimizer/optimizer.py:449: UserWarning: The objective has been evaluated at this point before.\n",
            "  warnings.warn(\"The objective has been evaluated \"\n",
            "/usr/local/lib/python3.10/dist-packages/skopt/optimizer/optimizer.py:449: UserWarning: The objective has been evaluated at this point before.\n",
            "  warnings.warn(\"The objective has been evaluated \"\n"
          ]
        }
      ]
    },
    {
      "cell_type": "code",
      "source": [
        "print(f\"SVR Mean Squared Error (MSE): {mse_svr:.4f}\")\n",
        "\n",
        "# Calculate Mean Squared Error (MSE) for XGBoost\n",
        "mse_xgboost = mean_squared_error(y_test, y_xgboost_pred)\n",
        "print(f\"XGBoost Mean Squared Error (MSE): {mse_xgboost:.4f}\")\n",
        "\n",
        "# Print the best hyperparameters for SVR and XGBoost\n",
        "print(\"Best SVR Hyperparameters:\")\n",
        "print(svr_bayesian_search.best_params_)\n",
        "\n",
        "print(\"\\nBest XGBoost Hyperparameters:\")\n",
        "print(xgboost_bayesian_search.best_params_)"
      ],
      "metadata": {
        "colab": {
          "base_uri": "https://localhost:8080/"
        },
        "id": "uCYHxSXiInBK",
        "outputId": "4aabd588-03bf-465e-f29e-a04f57c6da98"
      },
      "execution_count": 32,
      "outputs": [
        {
          "output_type": "stream",
          "name": "stdout",
          "text": [
            "SVR Mean Squared Error (MSE): 2854.1568\n",
            "XGBoost Mean Squared Error (MSE): 2756.8413\n",
            "Best SVR Hyperparameters:\n",
            "OrderedDict([('regressor__C', 3.9810717055349722), ('regressor__epsilon', 2.0565123083486534)])\n",
            "\n",
            "Best XGBoost Hyperparameters:\n",
            "OrderedDict([('regressor__colsample_bytree', 0.7), ('regressor__learning_rate', 0.01), ('regressor__max_depth', 3), ('regressor__min_child_weight', 3), ('regressor__n_estimators', 250), ('regressor__subsample', 0.8)])\n"
          ]
        }
      ]
    },
    {
      "cell_type": "code",
      "source": [],
      "metadata": {
        "id": "gclluU8PUSoY"
      },
      "execution_count": null,
      "outputs": []
    },
    {
      "cell_type": "code",
      "source": [
        "from scipy.optimize import minimize"
      ],
      "metadata": {
        "id": "HuEgw0SWUM5v"
      },
      "execution_count": 6,
      "outputs": []
    },
    {
      "cell_type": "code",
      "source": [
        "def optimize_xgboost_hyperparameters(params):\n",
        "    # Extract hyperparameters from the flattened list\n",
        "    learning_rate, n_estimators, max_depth, min_child_weight, subsample, colsample_bytree = params\n",
        "\n",
        "    learning_rate = max(learning_rate, 0)\n",
        "    min_child_weight = max(min_child_weight, 0)\n",
        "    subsample = max(0, min(subsample, 1))\n",
        "    colsample_bytree= max(0, min(colsample_bytree, 1))\n",
        "    # Round n_estimators and convert max_depth to an integer\n",
        "    n_estimators = int(round(n_estimators))\n",
        "    max_depth = int(max_depth)\n",
        "\n",
        "    xgboost_model = XGBRegressor(\n",
        "        learning_rate=learning_rate,\n",
        "        n_estimators=n_estimators,\n",
        "        max_depth=max_depth,\n",
        "        min_child_weight=min_child_weight,\n",
        "        subsample=subsample,\n",
        "        colsample_bytree=colsample_bytree\n",
        "    )\n",
        "\n",
        "    xgboost_model.fit(X_train, y_train)\n",
        "    y_pred = xgboost_model.predict(X_test)\n",
        "    mse = mean_squared_error(y_test, y_pred)\n",
        "    return mse\n",
        "\n",
        "# Initial hyperparameters as a flattened list\n",
        "initial_xgboost_hyperparameters = [0.1, 100.0, 3.0, 1.0, 0.8, 0.8]\n",
        "\n",
        "# Perform hyperparameter optimization using minimize\n",
        "result_xgboost = minimize(optimize_xgboost_hyperparameters, initial_xgboost_hyperparameters, method='L-BFGS-B')\n",
        "\n"
      ],
      "metadata": {
        "id": "Ua3sxiIKUMrk"
      },
      "execution_count": 18,
      "outputs": []
    },
    {
      "cell_type": "code",
      "source": [
        "# Get the best hyperparameters\n",
        "best_xgboost_hyperparameters = result_xgboost.x\n",
        "best_mse = result_xgboost.fun  # Best Mean Squared Error\n",
        "\n",
        "print(\"Best XGBoost Hyperparameters:\")\n",
        "print(best_xgboost_hyperparameters)\n",
        "print(\"Best MSE:\", best_mse)"
      ],
      "metadata": {
        "colab": {
          "base_uri": "https://localhost:8080/"
        },
        "id": "AHK5UNSoU8Yv",
        "outputId": "b2c9d391-9300-4494-d0fd-9e0c66d39e9f"
      },
      "execution_count": 19,
      "outputs": [
        {
          "output_type": "stream",
          "name": "stdout",
          "text": [
            "Best XGBoost Hyperparameters:\n",
            "[7.4859006e-02 1.0000000e+02 3.0000000e+00 1.0000000e+00 8.0000000e-01\n",
            " 8.0000000e-01]\n",
            "Best MSE: 2845.0603979640064\n"
          ]
        }
      ]
    },
    {
      "cell_type": "code",
      "source": [
        "# Define a custom objective function for hyperparameter optimization\n",
        "def optimize_svm_hyperparameters(params):\n",
        "    # Extract hyperparameters from the flattened list\n",
        "    C, epsilon = params\n",
        "    epsilon = max(epsilon, 0.0)\n",
        "    C = np.exp(C)\n",
        "    svm_model = SVR(\n",
        "        kernel='linear',  # You can modify the kernel type as needed\n",
        "        C=C,\n",
        "        epsilon=epsilon\n",
        "    )\n",
        "\n",
        "    svm_model.fit(X_train, y_train)\n",
        "    y_pred = svm_model.predict(X_test)\n",
        "    mse = mean_squared_error(y_test, y_pred)\n",
        "    return mse"
      ],
      "metadata": {
        "id": "N2ClvMgBfVSt"
      },
      "execution_count": 24,
      "outputs": []
    },
    {
      "cell_type": "code",
      "source": [
        "# Initial hyperparameters as a flattened list\n",
        "initial_svm_hyperparameters = [1.0, 1e-3]  # You can modify these values as needed\n",
        "\n",
        "# Perform hyperparameter optimization using minimize\n",
        "result_svm = minimize(optimize_svm_hyperparameters, initial_svm_hyperparameters, method='L-BFGS-B')\n",
        "\n",
        "# Get the best hyperparameters\n",
        "best_svm_hyperparameters = result_svm.x\n",
        "best_mse_svm = result_svm.fun  # Best Mean Squared Error\n",
        "\n",
        "print(\"Best SVM Hyperparameters:\")\n",
        "print(\"C:\", best_svm_hyperparameters[0])\n",
        "print(\"Epsilon:\", best_svm_hyperparameters[1])\n",
        "print(\"Best MSE:\", best_mse_svm)"
      ],
      "metadata": {
        "colab": {
          "base_uri": "https://localhost:8080/"
        },
        "id": "JWaQaN-KhfQr",
        "outputId": "09e68510-f931-4af2-8744-0831696c8aa5"
      },
      "execution_count": 25,
      "outputs": [
        {
          "output_type": "stream",
          "name": "stdout",
          "text": [
            "Best SVM Hyperparameters:\n",
            "C: 5.698712502732738\n",
            "Epsilon: -1.123426785736673\n",
            "Best MSE: 2783.263459906919\n"
          ]
        }
      ]
    },
    {
      "cell_type": "code",
      "source": [
        "result_svm2 = minimize(optimize_svm_hyperparameters, initial_svm_hyperparameters, method='POWELL')\n",
        "result_svm3 = minimize(optimize_svm_hyperparameters, initial_svm_hyperparameters, method='CG')"
      ],
      "metadata": {
        "id": "vRf7rgVXh5y4"
      },
      "execution_count": 26,
      "outputs": []
    },
    {
      "cell_type": "code",
      "source": [
        "# Get the best hyperparameters\n",
        "best_svm_hyperparameters2 = result_svm2.x\n",
        "best_mse_svm2 = result_svm2.fun  # Best Mean Squared Error\n",
        "\n",
        "\n",
        "# Get the best hyperparameters\n",
        "best_svm_hyperparameters3 = result_svm3.x\n",
        "best_mse_svm3 = result_svm3.fun  # Best Mean Squared Error"
      ],
      "metadata": {
        "id": "69gi3H4dh8H0"
      },
      "execution_count": 29,
      "outputs": []
    },
    {
      "cell_type": "code",
      "source": [
        "print(\"Best SVM Hyperparameters for POWELL:\")\n",
        "print(\"C:\", best_svm_hyperparameters2[0])\n",
        "print(\"Epsilon:\", best_svm_hyperparameters2[1])\n",
        "print(\"Best MSE:\", best_mse_svm2)\n",
        "\n",
        "print(\"\")\n",
        "print(\"Best SVM Hyperparameters for CG:\")\n",
        "print(\"C:\", best_svm_hyperparameters3[0])\n",
        "print(\"Epsilon:\", best_svm_hyperparameters3[1])\n",
        "print(\"Best MSE:\", best_mse_svm3)\n"
      ],
      "metadata": {
        "colab": {
          "base_uri": "https://localhost:8080/"
        },
        "id": "1XQk-T9kiutF",
        "outputId": "916aa8f8-df05-4577-bf2d-11ec6d63a0f5"
      },
      "execution_count": 32,
      "outputs": [
        {
          "output_type": "stream",
          "name": "stdout",
          "text": [
            "Best SVM Hyperparameters for POWELL:\n",
            "C: 5.698722085989913\n",
            "Epsilon: -4.186342653703974\n",
            "Best MSE: 2783.2630497056343\n",
            "\n",
            "Best SVM Hyperparameters for CG:\n",
            "C: 4.916209106182921\n",
            "Epsilon: -0.0004355729757453898\n",
            "Best MSE: 2892.4779961621766\n"
          ]
        }
      ]
    }
  ]
}